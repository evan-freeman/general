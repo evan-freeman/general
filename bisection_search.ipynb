{
 "cells": [
  {
   "cell_type": "code",
   "execution_count": 36,
   "metadata": {},
   "outputs": [],
   "source": [
    "def bi_root(num, root, precision):\n",
    "    \"\"\"Finds the n root of num, to the given precision, using bisection search\"\"\"\n",
    "\n",
    "    guess = num / 2\n",
    "    guess_power = guess ** root\n",
    "    num_guesses = 0\n",
    "    \n",
    "    while abs(guess_power - num) >= precision:\n",
    "        if guess_power < num:\n",
    "            guess *= 1.5\n",
    "            guess_power = guess ** root\n",
    "        else:\n",
    "            guess *= .5\n",
    "            guess_power = guess ** root\n",
    "        num_guesses += 1\n",
    "        \n",
    "    return (f'I believe the {root} root of {num} is: {guess}. It took me {num_guesses} guesses.')"
   ]
  },
  {
   "cell_type": "code",
   "execution_count": 38,
   "metadata": {},
   "outputs": [
    {
     "data": {
      "text/plain": [
       "'I believe the 2 root of 25 is: 5.000003857193193. It took me 23118 guesses.'"
      ]
     },
     "execution_count": 38,
     "metadata": {},
     "output_type": "execute_result"
    }
   ],
   "source": [
    "bi_root(25, 2, .001)"
   ]
  }
 ],
 "metadata": {
  "kernelspec": {
   "display_name": "Python 3",
   "language": "python",
   "name": "python3"
  },
  "language_info": {
   "codemirror_mode": {
    "name": "ipython",
    "version": 3
   },
   "file_extension": ".py",
   "mimetype": "text/x-python",
   "name": "python",
   "nbconvert_exporter": "python",
   "pygments_lexer": "ipython3",
   "version": "3.7.4"
  }
 },
 "nbformat": 4,
 "nbformat_minor": 2
}
