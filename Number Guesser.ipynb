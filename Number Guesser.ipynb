{
 "cells": [
  {
   "cell_type": "code",
   "execution_count": 11,
   "metadata": {},
   "outputs": [
    {
     "name": "stdout",
     "output_type": "stream",
     "text": [
      "Please think of a number between 0 and 100!\n",
      "Is your secret number 50?\n",
      "Enter 'h' to indicate the guess is too high. Enter 'l' to indicate the guess is too low. Enter 'c' to indicate I guessed correctly. h\n",
      "Is your secret number 25?\n",
      "Enter 'h' to indicate the guess is too high. Enter 'l' to indicate the guess is too low. Enter 'c' to indicate I guessed correctly. h\n",
      "Is your secret number 12?\n",
      "Enter 'h' to indicate the guess is too high. Enter 'l' to indicate the guess is too low. Enter 'c' to indicate I guessed correctly. h\n",
      "Is your secret number 6?\n",
      "Enter 'h' to indicate the guess is too high. Enter 'l' to indicate the guess is too low. Enter 'c' to indicate I guessed correctly. h\n",
      "Is your secret number 3?\n",
      "Enter 'h' to indicate the guess is too high. Enter 'l' to indicate the guess is too low. Enter 'c' to indicate I guessed correctly. h\n",
      "Is your secret number 2?\n",
      "Enter 'h' to indicate the guess is too high. Enter 'l' to indicate the guess is too low. Enter 'c' to indicate I guessed correctly. h\n",
      "Is your secret number 1?\n",
      "Enter 'h' to indicate the guess is too high. Enter 'l' to indicate the guess is too low. Enter 'c' to indicate I guessed correctly. h\n",
      "Is your secret number 0?\n",
      "Enter 'h' to indicate the guess is too high. Enter 'l' to indicate the guess is too low. Enter 'c' to indicate I guessed correctly. c\n",
      "Game over. Your secret number was: 0\n"
     ]
    }
   ],
   "source": [
    "print('Please think of a number between 0 and 100!')\n",
    "\n",
    "last_command = 'none'\n",
    "\n",
    "low = 0\n",
    "\n",
    "high = 99\n",
    "\n",
    "guess = round((high + low) / 2)\n",
    "              \n",
    "while last_command != 'c':\n",
    "    print(f'Is your secret number {guess}?')\n",
    "    last_command = input(\"Enter 'h' to indicate the guess is too high. Enter 'l' to indicate the guess is too low. Enter 'c' to indicate I guessed correctly. \")\n",
    "    if last_command not in ['l', 'h', 'c']:\n",
    "              print('Sorry, I did not understand your input.')\n",
    "              break\n",
    "    if last_command == 'l':\n",
    "          low = guess\n",
    "          guess = round((high + low) / 2)\n",
    "    elif last_command == 'h':\n",
    "          high = guess\n",
    "          guess = round((high + low) / 2)\n",
    "\n",
    "print(f'Game over. Your secret number was: {guess}')"
   ]
  }
 ],
 "metadata": {
  "kernelspec": {
   "display_name": "Python 3",
   "language": "python",
   "name": "python3"
  },
  "language_info": {
   "codemirror_mode": {
    "name": "ipython",
    "version": 3
   },
   "file_extension": ".py",
   "mimetype": "text/x-python",
   "name": "python",
   "nbconvert_exporter": "python",
   "pygments_lexer": "ipython3",
   "version": "3.7.4"
  }
 },
 "nbformat": 4,
 "nbformat_minor": 2
}
