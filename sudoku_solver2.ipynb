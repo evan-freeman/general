{
 "cells": [
  {
   "cell_type": "markdown",
   "metadata": {},
   "source": [
    "Sudoku Solver by Evan Freeman\n",
    "Basic Technique, Then Brute Force\n",
    "\n",
    "\n",
    "Input must be a string of 81 characters\n",
    "Blank cells may be filled with anything for the input.\n",
    "\n",
    "\n",
    "\n",
    "For example:\n",
    "    .94...13..............76..2.8..1.....32.........2...6.....5.4.......8..7..63.4..8\n",
    "    \n",
    "Which solves to:\n",
    "    794582136268931745315476982689715324432869571157243869821657493943128657576394218\n",
    "\n",
    "\n",
    "Here's the coordinates of every cell in the grid:\n",
    "\n",
    "(0,0) (0,1) (0,2) (0,3) (0,4) (0,5) (0,6) (0,7) (0,8)\n",
    "\n",
    "(1,0) (1,1) (1,2) (1,3) (1,4) (1,5) (1,6) (1,7) (1,8)\n",
    "\n",
    "(2,0) (2,1) (2,2) (2,3) (2,4) (2,5) (2,6) (2,7) (2,8)\n",
    "\n",
    "(3,0) (3,1) (3,2) (3,3) (3,4) (3,5) (3,6) (3,7) (3,8)\n",
    "\n",
    "(4,0) (4,1) (4,2) (4,3) (4,4) (4,5) (4,6) (4,7) (4,8)\n",
    "\n",
    "(5,0) (5,1) (5,2) (5,3) (5,4) (5,5) (5,6) (5,7) (5,8)\n",
    "\n",
    "(6,0) (6,1) (6,2) (6,3) (6,4) (6,5) (6,6) (6,7) (6,8)\n",
    "\n",
    "(7,0) (7,1) (7,2) (7,3) (7,4) (7,5) (7,6) (7,7) (7,8)\n",
    "\n",
    "(8,0) (8,1) (8,2) (8,3) (8,4) (8,5) (8,6) (8,7) (8,8)\n",
    "\n",
    "\n",
    "Big picture:\n",
    "    1) Start with naked / hidden singles techniques. This is enough for many puzzle.\n",
    "        -Use the \"little numbers\" technique, where each cell has a \"bag\" of possible numbers that gets updated.\n",
    "        -We will need to store these numbers in a list, so we can iterate through them as we \n",
    "    2) When you get stuck, finish off with brute force, but only considering \n",
    "\n",
    "To do:\n",
    "    1) Accept more input types\n",
    "    2) Check for multiple solutions\n",
    "    3) Implement sudoku strategies to speed up solve time:\n",
    "        -Could still finish off with brute force, even if I just put in a few basic strategies\n",
    "        -Do the 'little numbers' technique, where I keep track of the possibilites associated with each cell\n",
    "    4) Make it display as it goes?\n",
    "        -That means showing MILLIONS of iterations. Would have to animate SUPER FAST.\n",
    "        -Or collect all those images and make a gif of it, after the fact.\n",
    "            - Pre-complile??? I don't know what I'm talking about\n",
    "    5) Just how brute force is my algorithm? I think it's slightly faster than just populating every blank with a guess,\n",
    "        checking the whole puzzle, then updating the whole puzzle and checking again (or even just checking the parts effected\n",
    "        by the update).\n",
    "        -After all, my algorithm cuts off certian possibility spaces as it goes\n",
    "        -Still pretty brute force\n",
    "    6) YES, I SHOULD HAVE MADE THE BLANKS OBJECTS, MAYBE EVEN ASSOCIATED THEM WITH THE CELL OBJECT SOMEHOW. SUE ME!!!\n",
    "        -also should have named them \"blanks\" instead of \"b\"\n",
    "        -Actually, maybe just a dict would have been better\n",
    "    7) Add another strategy.\n",
    "    8) Maybe add doubles and triples\n",
    "        \n",
    "        \n",
    "Thoughts:\n",
    "    Brute force time to complete depends on a few things:\n",
    "        1) Luck. Whether a given blank cell will end up being 1 or 9 makes a big difference, as we start at 1.\n",
    "        2) Contradiction depth. How long, on average, we can randomly fill cells before creating a contradiction?"
   ]
  },
  {
   "cell_type": "code",
   "execution_count": 1,
   "metadata": {},
   "outputs": [],
   "source": [
    "import time\n",
    "import pdb"
   ]
  },
  {
   "cell_type": "code",
   "execution_count": 3,
   "metadata": {
    "jupyter": {
     "source_hidden": true
    }
   },
   "outputs": [],
   "source": [
    "#Here is my original, pretty brute force, method\n",
    "def solve_bf(puzzle):\n",
    "    start_time = time.time()\n",
    "    class Grid:\n",
    "\n",
    "        def __init__(self, string):\n",
    "            self.cells = [[x for x in string[0:9]],\n",
    "                          [x for x in string[9:18]],\n",
    "                          [x for x in string[18:27]],\n",
    "                          [x for x in string[27:36]],\n",
    "                          [x for x in string[36:45]],\n",
    "                          [x for x in string[45:54]],\n",
    "                          [x for x in string[54:63]],\n",
    "                          [x for x in string[63:72]],\n",
    "                          [x for x in string[72:81]]]\n",
    "\n",
    "\n",
    "        # This function outputs the contents of the box containing the cell with coordinates i, j\n",
    "        def box(self, i, j):\n",
    "            #let's find the coordinate of the upper left cell in the box\n",
    "            #We'll calculate the rest of the cell from there\n",
    "\n",
    "            #box x coordinate\n",
    "            x = i // 3 * 3\n",
    "            #box y coordinate\n",
    "            y = j // 3 * 3\n",
    "\n",
    "            box = [self.cells[a][b] for a in [x, x+1, x+2] for b in [y, y+1, y+2]]\n",
    "            return box\n",
    "\n",
    "\n",
    "        #This function outputs the contents of the row containing the cell with coordinates i, j\n",
    "        def row(self, i, j):\n",
    "            row = [self.cells[i][y] for y in range(9)]\n",
    "            return row\n",
    "\n",
    "\n",
    "        #This function outputs the contents of the column containing the cell with coordinates i, j\n",
    "        def column(self, i, j):\n",
    "            column = [self.cells[x][j] for x in range(9)]\n",
    "            return column\n",
    "\n",
    "\n",
    "        #Displays the puzzle, as a single block of strings\n",
    "        def display(self):\n",
    "            print('')\n",
    "            for x in self.cells:\n",
    "                print(''.join(x))\n",
    "            print('')\n",
    "\n",
    "\n",
    "        #Displays the puzzle, broken up into lists\n",
    "        def display_grid(self):\n",
    "            print('')\n",
    "            for x in self.cells:\n",
    "                print(x)\n",
    "            print('')\n",
    "     \n",
    "        \n",
    "        \n",
    "#Checks a given input (box, row, or column) for duplicates\n",
    "#Could be any list really, but will only check for duplicates in 1-9 (As strings)\n",
    "#Should this be part of the sudoku object? Doesn't act on the object, so I don't think so\n",
    "    def check(thing):\n",
    "        #First, remove any empty spaces\n",
    "        clean_thing = []\n",
    "        for x in thing:\n",
    "            if x in ['1', '2', '3', '4', '5', '6', '7', '8', '9']:\n",
    "                clean_thing.append(x)\n",
    "        #Now check for duplicates\n",
    "        if len(clean_thing) == len(set(clean_thing)):\n",
    "            return True\n",
    "        else:\n",
    "            return False\n",
    "\n",
    "#Here is the solution function. Takes us from the original puzzle to the solution.\n",
    "\n",
    "    sudoku = Grid(puzzle)\n",
    "\n",
    "    print('Here is the brute force solution result:')\n",
    "    sudoku.display()      \n",
    "\n",
    "    \n",
    "    #Step 1: #First, generate a list of all blank spaces, along with their coordinates, in the format of ['.', i, j]\n",
    "    b = []\n",
    "    for i in range(9):\n",
    "        for j in range(9):\n",
    "            if sudoku.cells[i][j] not in ['1', '2', '3', '4', '5', '6', '7', '8', '9']:\n",
    "                #so keep track of the cell we are going to fill, and it's coordinates\n",
    "                b.append([sudoku.cells[i][j], i, j])\n",
    "\n",
    "    #Initialize some variables\n",
    "    i = 0    \n",
    "    count = 0 \n",
    "\n",
    "    #This is the engine that drives the solution \n",
    "    #In each scenario, we update both the list of blanks, and the sudoku grid itself\n",
    "    #Keep going until our index hits the length of blanks (Which is to say, we're one step beyond)\n",
    "    while i != len(b):\n",
    "        count += 1\n",
    "        \n",
    "        #Scenario 1: blank number i is still blank. Start with 1\n",
    "        if b[i][0] not in ['1', '2', '3', '4', '5', '6', '7', '8', '9']:\n",
    "            b[i][0] = '1'\n",
    "            sudoku.cells[b[i][1]][b[i][2]] = b[i][0]\n",
    "        \n",
    "        #Scenario 2: blank number i is at 9. So we've already tried all the options\n",
    "        #So we need to clear it out and step back.\n",
    "        #Also we skip the rest of the loop, becacuse we don't need to check for consistency\n",
    "        #In fact, it would be bad to check for consistency, as we are guarenteed to trivially be consistent\n",
    "        #This would lead to stepping forward, canceling out our step back, and ending up in an infinite loop\n",
    "        elif b[i][0] == '9':\n",
    "            b[i][0] = '.'\n",
    "            sudoku.cells[b[i][1]][b[i][2]] = b[i][0]\n",
    "            i -= 1\n",
    "            continue\n",
    "        \n",
    "        #Scenario 3: There's some number 1-8 already plugged in. So we step forward by one.\n",
    "        else:\n",
    "            b[i][0] = str(int(b[i][0]) + 1)\n",
    "            sudoku.cells[b[i][1]][b[i][2]] = b[i][0]\n",
    "        \n",
    "        #Now we check for consistency. If we are consistent, we'll step forward.\n",
    "        #If not, we'll run through this same spot again.\n",
    "        consistent = check(sudoku.row(b[i][1], b[i][2])) and check(sudoku.column(b[i][1], b[i][2])) and check(sudoku.box(b[i][1], b[i][2]))\n",
    "        if consistent:\n",
    "            i += 1\n",
    "\n",
    "    #Format the solution as a string of 81 characters, like the input\n",
    "    solution = ''.join([''.join(x) for x in sudoku.cells])\n",
    "\n",
    "    \n",
    "    sudoku.display()\n",
    "    print(solution)\n",
    "    print('\\n')\n",
    "    print(f'This sudoku was solved in {count} loops.')\n",
    "    print('\\n')\n",
    "    print(f'--- This program took {time.time() - start_time} seconds to run. ---')\n",
    "    print('\\n')\n",
    "    print('-'*200)\n",
    "    print('\\n')\n",
    "    return solution"
   ]
  },
  {
   "cell_type": "code",
   "execution_count": 5,
   "metadata": {
    "jupyter": {
     "source_hidden": true
    }
   },
   "outputs": [],
   "source": [
    "#Here is my less brute force solver, which only brute forces over the possiblities for each cell, not all of 1-9\n",
    "\n",
    "def solve_lbf(puzzle):\n",
    "    start_time = time.time()\n",
    "    class Grid:\n",
    "\n",
    "        def __init__(self, string):\n",
    "            self.cells = [[x for x in string[0:9]],\n",
    "                          [x for x in string[9:18]],\n",
    "                          [x for x in string[18:27]],\n",
    "                          [x for x in string[27:36]],\n",
    "                          [x for x in string[36:45]],\n",
    "                          [x for x in string[45:54]],\n",
    "                          [x for x in string[54:63]],\n",
    "                          [x for x in string[63:72]],\n",
    "                          [x for x in string[72:81]]]\n",
    "\n",
    "\n",
    "        # This function outputs the contents of the box containing the cell with coordinates i, j\n",
    "        def box(self, i, j):\n",
    "            #let's find the coordinate of the upper left cell in the box\n",
    "            #We'll calculate the rest of the cell from there\n",
    "\n",
    "            #box x coordinate\n",
    "            x = i // 3 * 3\n",
    "            #box y coordinate\n",
    "            y = j // 3 * 3\n",
    "\n",
    "            box = [self.cells[a][b] for a in [x, x+1, x+2] for b in [y, y+1, y+2]]\n",
    "            return box\n",
    "\n",
    "\n",
    "        #This function outputs the contents of the row containing the cell with coordinates i, j\n",
    "        def row(self, i, j):\n",
    "            row = [self.cells[i][y] for y in range(9)]\n",
    "            return row\n",
    "\n",
    "\n",
    "        #This function outputs the contents of the column containing the cell with coordinates i, j\n",
    "        def column(self, i, j):\n",
    "            column = [self.cells[x][j] for x in range(9)]\n",
    "            return column\n",
    "\n",
    "\n",
    "        #Displays the puzzle, as a single block of strings\n",
    "        def display(self):\n",
    "            print('')\n",
    "            for x in self.cells:\n",
    "                print(''.join(x))\n",
    "            print('')\n",
    "\n",
    "\n",
    "        #Displays the puzzle, broken up into lists\n",
    "        def display_grid(self):\n",
    "            print('')\n",
    "            for x in self.cells:\n",
    "                print(x)\n",
    "            print('')\n",
    "     \n",
    "        \n",
    "        \n",
    "#Checks a given input (box, row, or column) for duplicates\n",
    "#Could be any list really, but will only check for duplicates in 1-9 (As strings)\n",
    "#Should this be part of the sudoku object? Doesn't act on the object, so I don't think so\n",
    "    def check(thing):\n",
    "        #First, remove any empty spaces\n",
    "        clean_thing = []\n",
    "        for x in thing:\n",
    "            if x in ['1', '2', '3', '4', '5', '6', '7', '8', '9']:\n",
    "                clean_thing.append(x)\n",
    "        #Now check for duplicates\n",
    "        if len(clean_thing) == len(set(clean_thing)):\n",
    "            return True\n",
    "        else:\n",
    "            return False\n",
    "\n",
    "#Here is the solution function. Takes us from the original puzzle to the solution.\n",
    "\n",
    "    sudoku = Grid(puzzle)\n",
    "\n",
    "    print('Here is the less brute force solution result:')\n",
    "    sudoku.display()      \n",
    "\n",
    "    \n",
    "    #Step 1: #First, generate a list of all blank spaces, along with their coordinates, and possibilities, in the format of ['.', i, j, [possible numbers]]\n",
    "    b = []\n",
    "    for i in range(9):\n",
    "        for j in range(9):\n",
    "            if sudoku.cells[i][j] not in ['1', '2', '3', '4', '5', '6', '7', '8', '9']:\n",
    "                                \n",
    "                poss = ['1', '2', '3', '4', '5', '6', '7', '8','9']\n",
    "                real_poss = []\n",
    "                \n",
    "                for x in poss:\n",
    "                    if not (x in sudoku.column(i, j) or x in sudoku.row(i, j) or x in sudoku.box(i, j)):\n",
    "                        real_poss.append(x)\n",
    "                \n",
    "                b.append([sudoku.cells[i][j], i, j, real_poss])\n",
    "    \n",
    "    \n",
    "    \n",
    "    #Step 2: Finish with brute force, if needed.\n",
    "        #Only brute force through the possibilites, though.\n",
    "        #3 Possibilities, just like the other one.\n",
    "            #1) Nothing filled in yet -> Use the first possibility\n",
    "            #2) The last possibility filled in -> step back to previous \"blank\"\n",
    "            #3) Else -> try the next possibility\n",
    "        #Note that we are guarenteed to have at least 2 possibilities, as the previous code would have filled\n",
    "        #In the solution if there were only one possibility\n",
    "    \n",
    "    i = 0\n",
    "    count = 0\n",
    "    \n",
    "    while i != len(b):\n",
    "        count += 1\n",
    "        \n",
    "        #Scenario 1: blank number i is still blank. Start with the first possibility\n",
    "        if b[i][0] == '.':\n",
    "            b[i][0] = b[i][3][0]\n",
    "            sudoku.cells[b[i][1]][b[i][2]] = b[i][0]\n",
    "        \n",
    "        #Scenario 2: blank number i is at the last possibility. So we've already tried all the options\n",
    "        #So we need to clear it out and step back.\n",
    "        #Also we skip the rest of the loop, becacuse we don't need to check for consistency\n",
    "        #In fact, it would be bad to check for consistency, as we are guarenteed to trivially be consistent\n",
    "        #This would lead to stepping forward, canceling out our step back, and ending up in an infinite loop\n",
    "        elif b[i][0] == b[i][3][-1]:\n",
    "            b[i][0] = '.'\n",
    "            sudoku.cells[b[i][1]][b[i][2]] = b[i][0]\n",
    "            i -= 1\n",
    "            continue\n",
    "        \n",
    "        #Scenario 3: There's some non last possibility already plugged in. So we step forward by one.\n",
    "        else:\n",
    "            b[i][0] = b[i][3][b[i][3].index(b[i][0]) + 1] #This is inefficient, I should store which poss I'm on\n",
    "            sudoku.cells[b[i][1]][b[i][2]] = b[i][0]\n",
    "        \n",
    "        #Now we check for consistency. If we are consistent, we'll step forward.\n",
    "        #If not, we'll run through this same spot again.\n",
    "        consistent = check(sudoku.row(b[i][1], b[i][2])) and check(sudoku.column(b[i][1], b[i][2])) and check(sudoku.box(b[i][1], b[i][2]))\n",
    "        if consistent:\n",
    "            i += 1\n",
    "        \n",
    "        \n",
    "        \n",
    "        \n",
    "#Format the solution as a string of 81 characters, like the input\n",
    "    solution = ''.join([''.join(x) for x in sudoku.cells])\n",
    "\n",
    "    \n",
    "    sudoku.display()\n",
    "    print(solution)\n",
    "    print('\\n')\n",
    "    print(f'This sudoku was solved in {count} loops.')\n",
    "    print('\\n')\n",
    "    print(f'--- This program took {time.time() - start_time} seconds to run. ---')\n",
    "    print('\\n')\n",
    "    print('-'*200)\n",
    "    print('\\n')\n",
    "    return solution"
   ]
  },
  {
   "cell_type": "code",
   "execution_count": 4,
   "metadata": {},
   "outputs": [],
   "source": [
    "#Here is my updated solver\n",
    "#It uses only hidden single and naked single, then finishes with brute force if necessary\n",
    "#Ok, working on adding doubles and triples\n",
    "\n",
    "def solve(puzzle):\n",
    "    start_time = time.time()\n",
    "    class Grid:\n",
    "\n",
    "        def __init__(self, string):\n",
    "            self.cells = [[x for x in string[0:9]],\n",
    "                          [x for x in string[9:18]],\n",
    "                          [x for x in string[18:27]],\n",
    "                          [x for x in string[27:36]],\n",
    "                          [x for x in string[36:45]],\n",
    "                          [x for x in string[45:54]],\n",
    "                          [x for x in string[54:63]],\n",
    "                          [x for x in string[63:72]],\n",
    "                          [x for x in string[72:81]]]\n",
    "\n",
    "\n",
    "        # This function outputs the contents of the box containing the cell with coordinates i, j\n",
    "        def box(self, i, j):\n",
    "            #let's find the coordinate of the upper left cell in the box\n",
    "            #We'll calculate the rest of the cell from there\n",
    "\n",
    "            #box x coordinate\n",
    "            x = i // 3 * 3\n",
    "            #box y coordinate\n",
    "            y = j // 3 * 3\n",
    "\n",
    "            box = [self.cells[a][b] for a in [x, x+1, x+2] for b in [y, y+1, y+2]]\n",
    "            return box\n",
    "\n",
    "\n",
    "        #This function outputs the contents of the row containing the cell with coordinates i, j\n",
    "        def row(self, i, j):\n",
    "            row = [self.cells[i][y] for y in range(9)]\n",
    "            return row\n",
    "\n",
    "\n",
    "        #This function outputs the contents of the column containing the cell with coordinates i, j\n",
    "        def column(self, i, j):\n",
    "            column = [self.cells[x][j] for x in range(9)]\n",
    "            return column\n",
    "\n",
    "\n",
    "        #Displays the puzzle, as a single block of strings\n",
    "        def display(self):\n",
    "            print('')\n",
    "            for x in self.cells:\n",
    "                print(''.join(x))\n",
    "            print('')\n",
    "\n",
    "\n",
    "        #Displays the puzzle, broken up into lists\n",
    "        def display_grid(self):\n",
    "            print('')\n",
    "            for x in self.cells:\n",
    "                print(x)\n",
    "            print('')\n",
    "     \n",
    "        \n",
    "        \n",
    "#Checks a given input (box, row, or column) for duplicates\n",
    "#Could be any list really, but will only check for duplicates in 1-9 (As strings)\n",
    "#Should this be part of the sudoku object? Doesn't act on the object, so I don't think so\n",
    "    def check(thing):\n",
    "        #First, remove any empty spaces\n",
    "        clean_thing = []\n",
    "        for x in thing:\n",
    "            if x in ['1', '2', '3', '4', '5', '6', '7', '8', '9']:\n",
    "                clean_thing.append(x)\n",
    "        #Now check for duplicates\n",
    "        if len(clean_thing) == len(set(clean_thing)):\n",
    "            return True\n",
    "        else:\n",
    "            return False\n",
    "\n",
    "#Here is the solution function. Takes us from the original puzzle to the solution.\n",
    "\n",
    "    sudoku = Grid(puzzle)\n",
    "\n",
    "    print('Here is the mostly not brute force solution result:')\n",
    "    sudoku.display()      \n",
    "\n",
    "    \n",
    "    #Step 1: #First, generate a list of all blank spaces, along with their coordinates, and possibilities, in the format of ['.', i, j, [possible numbers]]\n",
    "    blanks = []\n",
    "    for i in range(9):\n",
    "        for j in range(9):\n",
    "            if sudoku.cells[i][j] not in ['1', '2', '3', '4', '5', '6', '7', '8', '9']:\n",
    "                                \n",
    "                poss = ['1', '2', '3', '4', '5', '6', '7', '8','9']\n",
    "                real_poss = []\n",
    "                \n",
    "                for x in poss:\n",
    "                    if not (x in sudoku.column(i, j) or x in sudoku.row(i, j) or x in sudoku.box(i, j)):\n",
    "                        real_poss.append(x)\n",
    "                \n",
    "                blanks.append([sudoku.cells[i][j], i, j, real_poss])\n",
    "\n",
    "   \n",
    "    # Updates all blanks with new information in the sudoku\n",
    "    def update_blanks():\n",
    "        for blank in blanks:\n",
    "            for poss in blank[3][:]:\n",
    "                if poss in sudoku.column(blank[1], blank[2]) or poss in sudoku.row(blank[1], blank[2]) or poss in sudoku.box(blank[1], blank[2]):\n",
    "                    blank[3].remove(poss)\n",
    "   \n",
    "\n",
    "    # Fill in a blank if there is only a single possibility\n",
    "    def naked_single():\n",
    "        for i in range(len(blanks)):\n",
    "            if len(blanks[i][3]) == 1:\n",
    "                # Update the puzzle\n",
    "                sudoku.cells[blanks[i][1]][blanks[i][2]] = blanks[i][3][0]\n",
    "                # Delete that entry in the blanks\n",
    "                del blanks[i]\n",
    "                # Note that progress has been made this loop\n",
    "                return True\n",
    "        return False\n",
    "   \n",
    "\n",
    "    # Fill in when there is only one remaining place for a number in a row, column, or box.\n",
    "    def hidden_single():\n",
    "        # For each blank, see if it is the only number in it's row, column, or box that could contain a given number\n",
    "        # Nuts, maybe I should have attached the possibilites to each cell..., some sort of object\n",
    "        \n",
    "        #For each blank:\n",
    "            #1) for each possiblity\n",
    "            #2) look in it's row. Is there any other cell which is blank and has that possibility? If not, fill it in\n",
    "            #3) Look in it's column. Is there any other cell which is blank and has that possibility? If not, fill it in\n",
    "            #4) Look in it's box. Is there any other cell which is blank and has that possibility? If not, fill it in\n",
    "        for blank in blanks:\n",
    "            #generate the subset of blanks that are in the same column, row, or box as our current blank\n",
    "            \n",
    "            #These have the same second coordinate\n",
    "            blank_column = [other_blank for other_blank in blanks if other_blank[2] == blank[2] and other_blank != blank]\n",
    "            \n",
    "            #These have the same first coordinate\n",
    "            blank_row = [other_blank for other_blank in blanks if other_blank[1] == blank[1] and other_blank != blank]\n",
    "            \n",
    "            #These have the same whole number when divided by 3\n",
    "            blank_box = [other_blank for other_blank in blanks if int(other_blank[1])//3 == int(blank[1])//3 and int(other_blank[2])//3 == int(blank[2])//3 and other_blank != blank]\n",
    "            \n",
    "            #Iterate through each possibility. See if it is the only \n",
    "            other_column_poss = {num for other_poss in blank_column for num in other_poss[3]}\n",
    "            other_row_poss = {num for other_poss in blank_row for num in other_poss[3]}\n",
    "            other_box_poss = {num for other_poss in blank_box for num in other_poss[3]}\n",
    "            \n",
    "            for poss in blank[3]:\n",
    "                if not poss in other_column_poss or not poss in other_row_poss or not poss in other_box_poss:\n",
    "                    sudoku.cells[blank[1]][blank[2]] = poss\n",
    "                    blanks.remove(blank)\n",
    "                    return True\n",
    "        return False\n",
    "    \n",
    "    #Just naked doubles\n",
    "    #THIS IS A BIT INEFFICIENT, I'M GENERATING THESE LISTS BOTH ABOVE AND HERE\n",
    "    #Probably not a big deal though, and makes the code more readable and the logic easier to write for me\n",
    "    def naked_double():\n",
    "        pdb.set_trace()\n",
    "        for blank in blanks:\n",
    "            #generate the subset of blanks that are in the same column, row, or box as our current blank\n",
    "            \n",
    "            #These have the same second coordinate\n",
    "            blank_column = [other_blank for other_blank in blanks if other_blank[2] == blank[2] and other_blank != blank]\n",
    "            \n",
    "            #These have the same first coordinate\n",
    "            blank_row = [other_blank for other_blank in blanks if other_blank[1] == blank[1] and other_blank != blank]\n",
    "            \n",
    "            #These have the same whole number when divided by 3\n",
    "            blank_box = [other_blank for other_blank in blanks if int(other_blank[1])//3 == int(blank[1])//3 and int(other_blank[2])//3 == int(blank[2])//3 and other_blank != blank]\n",
    "        \n",
    "            #See if any other blank in the row, column, or box has identical possiblities, and is length 2. If so, remove from that column, row, or box.\n",
    "            for other_blank in blank_column:\n",
    "                if other_blank[3] == blank[3] and len(blank[3]) == 2:\n",
    "                    for other_other_blank in blank_column:\n",
    "                        if other_other_blank != other_blank:\n",
    "                            for poss in blank[3]:\n",
    "                                if poss in other_other_blank[3]:\n",
    "                                    other_other_blank[3].remove(poss)\n",
    "                                    return True\n",
    "                            \n",
    "            for other_blank in blank_row:\n",
    "                if other_blank[3] == blank[3] and len(blank[3]) == 2:\n",
    "                    for other_other_blank in blank_row:\n",
    "                        if other_other_blank != other_blank:\n",
    "                            for poss in blank[3]:\n",
    "                                if poss in other_other_blank[3]:\n",
    "                                    other_other_blank[3].remove(poss)\n",
    "                                    return True\n",
    "                            \n",
    "            for other_blank in blank_box:\n",
    "                if other_blank[3] == blank[3] and len(blank[3]) == 2:\n",
    "                    for other_other_blank in blank_box:\n",
    "                        if other_other_blank != other_blank:\n",
    "                            for poss in blank[3]:\n",
    "                                if poss in other_other_blank[3]:\n",
    "                                    other_other_blank[3].remove(poss)\n",
    "                                    return True\n",
    "        return False\n",
    "        \n",
    "        \n",
    "        \n",
    "        #Naked triples\n",
    "        #Recall that a naked triple means 3 in a subsection that all have EXACTLY and only members of a len 3 subset of possibilities\n",
    "        #So {1, 2}, {1, 3}, and {2, 3} would form a naked triple\n",
    "        #I may assume that there are no naked singles or doubles because of the previous code\n",
    "        #Instead of going through each blank and generating \n",
    "        #THIS IS A BIT INEFFICIENT, I'M GENERATING THESE LISTS BOTH ABOVE AND HERE\n",
    "        #Probably not a big deal though, and makes the code more readable and the logic easier to write for me\n",
    "    def naked_triple():\n",
    "        #Let's generate each column, row, and box, but only for blanks\n",
    "        #Remember, these are copies, so alter the original items in b???\n",
    "        #Just make a list, or maybe a dict\n",
    "        \n",
    "        c1_blanks = [blank for blank in blanks if blank[2] == 0]\n",
    "        \n",
    "        r1_blanks = [blank for blank in blanks if blank[1] == 0]\n",
    "                \n",
    "        b1_blanks = [blank for blank in blanks if blank[1] == 0]\n",
    "        \n",
    "        \n",
    "        return False\n",
    "            \n",
    "            \n",
    "            \n",
    "                \n",
    "    #Step 2: Loop through basic strategies:\n",
    "        # Hidden and Naked Singles\n",
    "        # Now with naked doubles, triples, and quads!\n",
    "        # When a blank is solved in this way, remove it from the list of blanks\n",
    "        # Make sure to update each cell's possibilities as you go\n",
    "        # Don't do more advanced strategies if you don't have to\n",
    "    \n",
    "    ns_count = 0\n",
    "    hs_count = 0\n",
    "    nd_count = 0\n",
    "    nt_count = 0\n",
    "    progress = True\n",
    "    while progress == True:\n",
    "        \n",
    "        prog1 = naked_single()\n",
    "        update_blanks()        \n",
    "        progress = prog1\n",
    "        ns_count += prog1\n",
    "        \n",
    "        if progress == False:\n",
    "            prog2 = hidden_single()\n",
    "            update_blanks()        \n",
    "            progress = progress or prog2\n",
    "            hs_count += prog2\n",
    "\n",
    "            if progress == False:\n",
    "                prog3 = naked_double()\n",
    "                update_blanks()\n",
    "                progress = progress or prog3\n",
    "                nd_count += prog3\n",
    "                \n",
    "                if progress == False:\n",
    "                    prog4 = naked_triple()\n",
    "                    update_blanks\n",
    "                    progress = progress or prog4\n",
    "                    nt_count += prog4\n",
    "            \n",
    "        \n",
    "        \n",
    "        \n",
    "        \n",
    "            \n",
    "    \n",
    "    sudoku.display()\n",
    "    print(f'We solved {ns_count} cells with naked singles.')\n",
    "    print(f'We solved {hs_count} cells with hidden singles.')\n",
    "    print(f'We helped {nd_count} times with naked doubles.')\n",
    "    print(f'We helped {nt_count} times with naked triples.')\n",
    "    \n",
    "    \n",
    "    #Step 3: Finish with brute force, if needed.\n",
    "        #Only brute force through the possibilites, though.\n",
    "        #3 Possibilities, just like the other one.\n",
    "            #1) Nothing filled in yet -> Use the first possibility\n",
    "            #2) The last possibility filled in -> step back to previous \"blank\"\n",
    "            #3) Else -> try the next possibility\n",
    "        #Note that we are guarenteed to have at least 2 possibilities, as the previous code would have filled\n",
    "        #In the solution if there were only one possibility\n",
    "\n",
    "    i = 0\n",
    "    count = 0\n",
    "    \n",
    "    while i != len(blanks):\n",
    "        count += 1\n",
    "        \n",
    "        #Scenario 1: blank number i is still blank. Start with the first possibility\n",
    "        if blanks[i][0] == '.':\n",
    "            blanks[i][0] = blanks[i][3][0]\n",
    "            sudoku.cells[blanks[i][1]][blanks[i][2]] = blanks[i][0]\n",
    "        \n",
    "        #Scenario 2: blank number i is at the last possibility. So we've already tried all the options\n",
    "        #So we need to clear it out and step back.\n",
    "        #Also we skip the rest of the loop, becacuse we don't need to check for consistency\n",
    "        #In fact, it would be bad to check for consistency, as we are guarenteed to trivially be consistent\n",
    "        #This would lead to stepping forward, canceling out our step back, and ending up in an infinite loop\n",
    "        elif blanks[i][0] == blanks[i][3][-1]:\n",
    "            blanks[i][0] = '.'\n",
    "            sudoku.cells[blanks[i][1]][blanks[i][2]] = blanks[i][0]\n",
    "            i -= 1\n",
    "            continue\n",
    "        \n",
    "        #Scenario 3: There's some non last possibility already plugged in. So we step forward by one.\n",
    "        else:\n",
    "            blanks[i][0] = blanks[i][3][blanks[i][3].index(blanks[i][0]) + 1] #This is inefficient, I should store which poss I'm on\n",
    "            sudoku.cells[blanks[i][1]][blanks[i][2]] = blanks[i][0]\n",
    "        \n",
    "        #Now we check for consistency. If we are consistent, we'll step forward.\n",
    "        #If not, we'll run through this same spot again.\n",
    "        consistent = check(sudoku.row(blanks[i][1], blanks[i][2])) and check(sudoku.column(blanks[i][1], blanks[i][2])) and check(sudoku.box(blanks[i][1], blanks[i][2]))\n",
    "        if consistent:\n",
    "            i += 1\n",
    "        \n",
    "        \n",
    "        \n",
    "        \n",
    "#Format the solution as a string of 81 characters, like the input\n",
    "    solution = ''.join([''.join(x) for x in sudoku.cells])\n",
    "\n",
    "    \n",
    "    sudoku.display()\n",
    "    print(solution)\n",
    "    print('\\n')\n",
    "    print(f'Brute force: {count} loops.')\n",
    "    print('\\n')\n",
    "    print(f'--- This program took {time.time() - start_time} seconds to run. ---')\n",
    "    print('-'*200)\n",
    "    print('\\n')\n",
    "    return solution"
   ]
  },
  {
   "cell_type": "code",
   "execution_count": null,
   "metadata": {},
   "outputs": [],
   "source": [
    "# I've implemented some particular puzzles for it to solve.\n",
    "# You can uncomment the lines below to make it ask for an input,or just plug in your own puzzle below.\n",
    "\n",
    "# puzzle = input('Please input your sudoku puzzle as a string of 81 characters. ')      \n",
    "# solve(puzzle)"
   ]
  },
  {
   "cell_type": "code",
   "execution_count": null,
   "metadata": {
    "collapsed": true,
    "jupyter": {
     "outputs_hidden": true
    }
   },
   "outputs": [
    {
     "name": "stdout",
     "output_type": "stream",
     "text": [
      "Here is the brute force solution result:\n",
      "\n",
      ".94...13.\n",
      ".........\n",
      "....76..2\n",
      ".8..1....\n",
      ".32......\n",
      "...2...6.\n",
      "....5.4..\n",
      ".....8..7\n",
      "..63.4..8\n",
      "\n",
      "\n",
      "794582136\n",
      "268931745\n",
      "315476982\n",
      "689715324\n",
      "432869571\n",
      "157243869\n",
      "821657493\n",
      "943128657\n",
      "576394218\n",
      "\n",
      "794582136268931745315476982689715324432869571157243869821657493943128657576394218\n",
      "\n",
      "\n",
      "This sudoku was solved in 2329276 loops.\n",
      "\n",
      "\n",
      "--- This program took 38.575459003448486 seconds to run. ---\n",
      "\n",
      "\n",
      "--------------------------------------------------------------------------------------------------------------------------------------------------------------------------------------------------------\n",
      "\n",
      "\n",
      "Here is the less brute force solution result:\n",
      "\n",
      ".94...13.\n",
      ".........\n",
      "....76..2\n",
      ".8..1....\n",
      ".32......\n",
      "...2...6.\n",
      "....5.4..\n",
      ".....8..7\n",
      "..63.4..8\n",
      "\n",
      "\n",
      "794582136\n",
      "268931745\n",
      "315476982\n",
      "689715324\n",
      "432869571\n",
      "157243869\n",
      "821657493\n",
      "943128657\n",
      "576394218\n",
      "\n",
      "794582136268931745315476982689715324432869571157243869821657493943128657576394218\n",
      "\n",
      "\n",
      "This sudoku was solved in 1219898 loops.\n",
      "\n",
      "\n",
      "--- This program took 19.944835901260376 seconds to run. ---\n",
      "\n",
      "\n",
      "--------------------------------------------------------------------------------------------------------------------------------------------------------------------------------------------------------\n",
      "\n",
      "\n",
      "Here is the mostly not brute force solution result:\n",
      "\n",
      ".94...13.\n",
      ".........\n",
      "....76..2\n",
      ".8..1....\n",
      ".32......\n",
      "...2...6.\n",
      "....5.4..\n",
      ".....8..7\n",
      "..63.4..8\n",
      "\n",
      "> <ipython-input-4-0136957f1801>(163)naked_double()\n",
      "-> for blank in blanks:\n"
     ]
    },
    {
     "name": "stdin",
     "output_type": "stream",
     "text": [
      "(Pdb)  n\n"
     ]
    },
    {
     "name": "stdout",
     "output_type": "stream",
     "text": [
      "> <ipython-input-4-0136957f1801>(167)naked_double()\n",
      "-> blank_column = [other_blank for other_blank in blanks if other_blank[2] == blank[2] and other_blank != blank]\n"
     ]
    },
    {
     "name": "stdin",
     "output_type": "stream",
     "text": [
      "(Pdb)  n\n"
     ]
    },
    {
     "name": "stdout",
     "output_type": "stream",
     "text": [
      "> <ipython-input-4-0136957f1801>(170)naked_double()\n",
      "-> blank_row = [other_blank for other_blank in blanks if other_blank[1] == blank[1] and other_blank != blank]\n"
     ]
    },
    {
     "name": "stdin",
     "output_type": "stream",
     "text": [
      "(Pdb)  continue\n"
     ]
    },
    {
     "name": "stdout",
     "output_type": "stream",
     "text": [
      "> <ipython-input-4-0136957f1801>(163)naked_double()\n",
      "-> for blank in blanks:\n"
     ]
    },
    {
     "name": "stdin",
     "output_type": "stream",
     "text": [
      "(Pdb)  continue\n"
     ]
    },
    {
     "name": "stdout",
     "output_type": "stream",
     "text": [
      "> <ipython-input-4-0136957f1801>(163)naked_double()\n",
      "-> for blank in blanks:\n"
     ]
    },
    {
     "name": "stdin",
     "output_type": "stream",
     "text": [
      "(Pdb)  continue\n"
     ]
    },
    {
     "name": "stdout",
     "output_type": "stream",
     "text": [
      "> <ipython-input-4-0136957f1801>(163)naked_double()\n",
      "-> for blank in blanks:\n"
     ]
    },
    {
     "name": "stdin",
     "output_type": "stream",
     "text": [
      "(Pdb)  break\n",
      "(Pdb)  n\n"
     ]
    },
    {
     "name": "stdout",
     "output_type": "stream",
     "text": [
      "> <ipython-input-4-0136957f1801>(167)naked_double()\n",
      "-> blank_column = [other_blank for other_blank in blanks if other_blank[2] == blank[2] and other_blank != blank]\n"
     ]
    },
    {
     "name": "stdin",
     "output_type": "stream",
     "text": [
      "(Pdb)  n\n"
     ]
    },
    {
     "name": "stdout",
     "output_type": "stream",
     "text": [
      "> <ipython-input-4-0136957f1801>(170)naked_double()\n",
      "-> blank_row = [other_blank for other_blank in blanks if other_blank[1] == blank[1] and other_blank != blank]\n"
     ]
    },
    {
     "name": "stdin",
     "output_type": "stream",
     "text": [
      "(Pdb)  n\n"
     ]
    },
    {
     "name": "stdout",
     "output_type": "stream",
     "text": [
      "> <ipython-input-4-0136957f1801>(173)naked_double()\n",
      "-> blank_box = [other_blank for other_blank in blanks if int(other_blank[1])//3 == int(blank[1])//3 and int(other_blank[2])//3 == int(blank[2])//3 and other_blank != blank]\n"
     ]
    },
    {
     "name": "stdin",
     "output_type": "stream",
     "text": [
      "(Pdb)  n\n"
     ]
    },
    {
     "name": "stdout",
     "output_type": "stream",
     "text": [
      "> <ipython-input-4-0136957f1801>(176)naked_double()\n",
      "-> for other_blank in blank_column:\n"
     ]
    },
    {
     "name": "stdin",
     "output_type": "stream",
     "text": [
      "(Pdb)  n\n"
     ]
    },
    {
     "name": "stdout",
     "output_type": "stream",
     "text": [
      "> <ipython-input-4-0136957f1801>(177)naked_double()\n",
      "-> if other_blank[3] == blank[3] and len(blank[3]) == 2:\n"
     ]
    },
    {
     "name": "stdin",
     "output_type": "stream",
     "text": [
      "(Pdb)  n\n"
     ]
    },
    {
     "name": "stdout",
     "output_type": "stream",
     "text": [
      "> <ipython-input-4-0136957f1801>(176)naked_double()\n",
      "-> for other_blank in blank_column:\n"
     ]
    },
    {
     "name": "stdin",
     "output_type": "stream",
     "text": [
      "(Pdb)  n\n"
     ]
    },
    {
     "name": "stdout",
     "output_type": "stream",
     "text": [
      "> <ipython-input-4-0136957f1801>(177)naked_double()\n",
      "-> if other_blank[3] == blank[3] and len(blank[3]) == 2:\n"
     ]
    },
    {
     "name": "stdin",
     "output_type": "stream",
     "text": [
      "(Pdb)  n\n"
     ]
    },
    {
     "name": "stdout",
     "output_type": "stream",
     "text": [
      "> <ipython-input-4-0136957f1801>(176)naked_double()\n",
      "-> for other_blank in blank_column:\n"
     ]
    },
    {
     "name": "stdin",
     "output_type": "stream",
     "text": [
      "(Pdb)  n\n"
     ]
    },
    {
     "name": "stdout",
     "output_type": "stream",
     "text": [
      "> <ipython-input-4-0136957f1801>(177)naked_double()\n",
      "-> if other_blank[3] == blank[3] and len(blank[3]) == 2:\n"
     ]
    },
    {
     "name": "stdin",
     "output_type": "stream",
     "text": [
      "(Pdb)  n\n"
     ]
    },
    {
     "name": "stdout",
     "output_type": "stream",
     "text": [
      "> <ipython-input-4-0136957f1801>(176)naked_double()\n",
      "-> for other_blank in blank_column:\n"
     ]
    },
    {
     "name": "stdin",
     "output_type": "stream",
     "text": [
      "(Pdb)  n\n"
     ]
    },
    {
     "name": "stdout",
     "output_type": "stream",
     "text": [
      "> <ipython-input-4-0136957f1801>(177)naked_double()\n",
      "-> if other_blank[3] == blank[3] and len(blank[3]) == 2:\n"
     ]
    },
    {
     "name": "stdin",
     "output_type": "stream",
     "text": [
      "(Pdb)  n\n"
     ]
    },
    {
     "name": "stdout",
     "output_type": "stream",
     "text": [
      "> <ipython-input-4-0136957f1801>(176)naked_double()\n",
      "-> for other_blank in blank_column:\n"
     ]
    },
    {
     "name": "stdin",
     "output_type": "stream",
     "text": [
      "(Pdb)  n\n"
     ]
    },
    {
     "name": "stdout",
     "output_type": "stream",
     "text": [
      "> <ipython-input-4-0136957f1801>(185)naked_double()\n",
      "-> for other_blank in blank_row:\n"
     ]
    },
    {
     "name": "stdin",
     "output_type": "stream",
     "text": [
      "(Pdb)  n\n"
     ]
    },
    {
     "name": "stdout",
     "output_type": "stream",
     "text": [
      "> <ipython-input-4-0136957f1801>(186)naked_double()\n",
      "-> if other_blank[3] == blank[3] and len(blank[3]) == 2:\n"
     ]
    },
    {
     "name": "stdin",
     "output_type": "stream",
     "text": [
      "(Pdb)  n\n"
     ]
    },
    {
     "name": "stdout",
     "output_type": "stream",
     "text": [
      "> <ipython-input-4-0136957f1801>(185)naked_double()\n",
      "-> for other_blank in blank_row:\n"
     ]
    },
    {
     "name": "stdin",
     "output_type": "stream",
     "text": [
      "(Pdb)  n\n"
     ]
    },
    {
     "name": "stdout",
     "output_type": "stream",
     "text": [
      "> <ipython-input-4-0136957f1801>(186)naked_double()\n",
      "-> if other_blank[3] == blank[3] and len(blank[3]) == 2:\n"
     ]
    },
    {
     "name": "stdin",
     "output_type": "stream",
     "text": [
      "(Pdb)  n\n"
     ]
    },
    {
     "name": "stdout",
     "output_type": "stream",
     "text": [
      "> <ipython-input-4-0136957f1801>(185)naked_double()\n",
      "-> for other_blank in blank_row:\n"
     ]
    },
    {
     "name": "stdin",
     "output_type": "stream",
     "text": [
      "(Pdb)  n\n"
     ]
    },
    {
     "name": "stdout",
     "output_type": "stream",
     "text": [
      "> <ipython-input-4-0136957f1801>(186)naked_double()\n",
      "-> if other_blank[3] == blank[3] and len(blank[3]) == 2:\n"
     ]
    },
    {
     "name": "stdin",
     "output_type": "stream",
     "text": [
      "(Pdb)  n\n"
     ]
    },
    {
     "name": "stdout",
     "output_type": "stream",
     "text": [
      "> <ipython-input-4-0136957f1801>(185)naked_double()\n",
      "-> for other_blank in blank_row:\n"
     ]
    },
    {
     "name": "stdin",
     "output_type": "stream",
     "text": [
      "(Pdb)  n\n"
     ]
    },
    {
     "name": "stdout",
     "output_type": "stream",
     "text": [
      "> <ipython-input-4-0136957f1801>(194)naked_double()\n",
      "-> for other_blank in blank_box:\n"
     ]
    },
    {
     "name": "stdin",
     "output_type": "stream",
     "text": [
      "(Pdb)  n\n"
     ]
    },
    {
     "name": "stdout",
     "output_type": "stream",
     "text": [
      "> <ipython-input-4-0136957f1801>(195)naked_double()\n",
      "-> if other_blank[3] == blank[3] and len(blank[3]) == 2:\n"
     ]
    },
    {
     "name": "stdin",
     "output_type": "stream",
     "text": [
      "(Pdb)  n\n"
     ]
    },
    {
     "name": "stdout",
     "output_type": "stream",
     "text": [
      "> <ipython-input-4-0136957f1801>(194)naked_double()\n",
      "-> for other_blank in blank_box:\n"
     ]
    },
    {
     "name": "stdin",
     "output_type": "stream",
     "text": [
      "(Pdb)  n\n"
     ]
    },
    {
     "name": "stdout",
     "output_type": "stream",
     "text": [
      "> <ipython-input-4-0136957f1801>(195)naked_double()\n",
      "-> if other_blank[3] == blank[3] and len(blank[3]) == 2:\n"
     ]
    },
    {
     "name": "stdin",
     "output_type": "stream",
     "text": [
      "(Pdb)  n\n"
     ]
    },
    {
     "name": "stdout",
     "output_type": "stream",
     "text": [
      "> <ipython-input-4-0136957f1801>(194)naked_double()\n",
      "-> for other_blank in blank_box:\n"
     ]
    },
    {
     "name": "stdin",
     "output_type": "stream",
     "text": [
      "(Pdb)  n\n"
     ]
    },
    {
     "name": "stdout",
     "output_type": "stream",
     "text": [
      "> <ipython-input-4-0136957f1801>(195)naked_double()\n",
      "-> if other_blank[3] == blank[3] and len(blank[3]) == 2:\n"
     ]
    },
    {
     "name": "stdin",
     "output_type": "stream",
     "text": [
      "(Pdb)  n\n"
     ]
    },
    {
     "name": "stdout",
     "output_type": "stream",
     "text": [
      "> <ipython-input-4-0136957f1801>(194)naked_double()\n",
      "-> for other_blank in blank_box:\n"
     ]
    },
    {
     "name": "stdin",
     "output_type": "stream",
     "text": [
      "(Pdb)  n\n"
     ]
    },
    {
     "name": "stdout",
     "output_type": "stream",
     "text": [
      "> <ipython-input-4-0136957f1801>(163)naked_double()\n",
      "-> for blank in blanks:\n"
     ]
    },
    {
     "name": "stdin",
     "output_type": "stream",
     "text": [
      "(Pdb)  n\n"
     ]
    },
    {
     "name": "stdout",
     "output_type": "stream",
     "text": [
      "> <ipython-input-4-0136957f1801>(167)naked_double()\n",
      "-> blank_column = [other_blank for other_blank in blanks if other_blank[2] == blank[2] and other_blank != blank]\n"
     ]
    },
    {
     "name": "stdin",
     "output_type": "stream",
     "text": [
      "(Pdb)  n\n"
     ]
    },
    {
     "name": "stdout",
     "output_type": "stream",
     "text": [
      "> <ipython-input-4-0136957f1801>(170)naked_double()\n",
      "-> blank_row = [other_blank for other_blank in blanks if other_blank[1] == blank[1] and other_blank != blank]\n"
     ]
    },
    {
     "name": "stdin",
     "output_type": "stream",
     "text": [
      "(Pdb)  n\n"
     ]
    },
    {
     "name": "stdout",
     "output_type": "stream",
     "text": [
      "> <ipython-input-4-0136957f1801>(173)naked_double()\n",
      "-> blank_box = [other_blank for other_blank in blanks if int(other_blank[1])//3 == int(blank[1])//3 and int(other_blank[2])//3 == int(blank[2])//3 and other_blank != blank]\n"
     ]
    },
    {
     "name": "stdin",
     "output_type": "stream",
     "text": [
      "(Pdb)  n\n"
     ]
    },
    {
     "name": "stdout",
     "output_type": "stream",
     "text": [
      "> <ipython-input-4-0136957f1801>(176)naked_double()\n",
      "-> for other_blank in blank_column:\n"
     ]
    },
    {
     "name": "stdin",
     "output_type": "stream",
     "text": [
      "(Pdb)  n\n"
     ]
    },
    {
     "name": "stdout",
     "output_type": "stream",
     "text": [
      "> <ipython-input-4-0136957f1801>(177)naked_double()\n",
      "-> if other_blank[3] == blank[3] and len(blank[3]) == 2:\n"
     ]
    },
    {
     "name": "stdin",
     "output_type": "stream",
     "text": [
      "(Pdb)  n\n"
     ]
    },
    {
     "name": "stdout",
     "output_type": "stream",
     "text": [
      "> <ipython-input-4-0136957f1801>(178)naked_double()\n",
      "-> for other_other_blank in blank_column:\n"
     ]
    },
    {
     "name": "stdin",
     "output_type": "stream",
     "text": [
      "(Pdb)  n\n"
     ]
    },
    {
     "name": "stdout",
     "output_type": "stream",
     "text": [
      "> <ipython-input-4-0136957f1801>(179)naked_double()\n",
      "-> if other_other_blank != other_blank:\n"
     ]
    },
    {
     "name": "stdin",
     "output_type": "stream",
     "text": [
      "(Pdb)  n\n"
     ]
    },
    {
     "name": "stdout",
     "output_type": "stream",
     "text": [
      "> <ipython-input-4-0136957f1801>(178)naked_double()\n",
      "-> for other_other_blank in blank_column:\n"
     ]
    },
    {
     "name": "stdin",
     "output_type": "stream",
     "text": [
      "(Pdb)  n\n"
     ]
    },
    {
     "name": "stdout",
     "output_type": "stream",
     "text": [
      "> <ipython-input-4-0136957f1801>(176)naked_double()\n",
      "-> for other_blank in blank_column:\n"
     ]
    },
    {
     "name": "stdin",
     "output_type": "stream",
     "text": [
      "(Pdb)  n\n"
     ]
    },
    {
     "name": "stdout",
     "output_type": "stream",
     "text": [
      "> <ipython-input-4-0136957f1801>(185)naked_double()\n",
      "-> for other_blank in blank_row:\n"
     ]
    },
    {
     "name": "stdin",
     "output_type": "stream",
     "text": [
      "(Pdb)  n\n"
     ]
    },
    {
     "name": "stdout",
     "output_type": "stream",
     "text": [
      "> <ipython-input-4-0136957f1801>(186)naked_double()\n",
      "-> if other_blank[3] == blank[3] and len(blank[3]) == 2:\n"
     ]
    },
    {
     "name": "stdin",
     "output_type": "stream",
     "text": [
      "(Pdb)  n\n"
     ]
    },
    {
     "name": "stdout",
     "output_type": "stream",
     "text": [
      "> <ipython-input-4-0136957f1801>(185)naked_double()\n",
      "-> for other_blank in blank_row:\n"
     ]
    },
    {
     "name": "stdin",
     "output_type": "stream",
     "text": [
      "(Pdb)  n\n"
     ]
    },
    {
     "name": "stdout",
     "output_type": "stream",
     "text": [
      "> <ipython-input-4-0136957f1801>(186)naked_double()\n",
      "-> if other_blank[3] == blank[3] and len(blank[3]) == 2:\n"
     ]
    },
    {
     "name": "stdin",
     "output_type": "stream",
     "text": [
      "(Pdb)  n\n"
     ]
    },
    {
     "name": "stdout",
     "output_type": "stream",
     "text": [
      "> <ipython-input-4-0136957f1801>(185)naked_double()\n",
      "-> for other_blank in blank_row:\n"
     ]
    },
    {
     "name": "stdin",
     "output_type": "stream",
     "text": [
      "(Pdb)  n\n"
     ]
    },
    {
     "name": "stdout",
     "output_type": "stream",
     "text": [
      "> <ipython-input-4-0136957f1801>(186)naked_double()\n",
      "-> if other_blank[3] == blank[3] and len(blank[3]) == 2:\n"
     ]
    },
    {
     "name": "stdin",
     "output_type": "stream",
     "text": [
      "(Pdb)  n\n"
     ]
    },
    {
     "name": "stdout",
     "output_type": "stream",
     "text": [
      "> <ipython-input-4-0136957f1801>(185)naked_double()\n",
      "-> for other_blank in blank_row:\n"
     ]
    },
    {
     "name": "stdin",
     "output_type": "stream",
     "text": [
      "(Pdb)  n\n"
     ]
    },
    {
     "name": "stdout",
     "output_type": "stream",
     "text": [
      "> <ipython-input-4-0136957f1801>(194)naked_double()\n",
      "-> for other_blank in blank_box:\n"
     ]
    },
    {
     "name": "stdin",
     "output_type": "stream",
     "text": [
      "(Pdb)  n\n"
     ]
    },
    {
     "name": "stdout",
     "output_type": "stream",
     "text": [
      "> <ipython-input-4-0136957f1801>(195)naked_double()\n",
      "-> if other_blank[3] == blank[3] and len(blank[3]) == 2:\n"
     ]
    },
    {
     "name": "stdin",
     "output_type": "stream",
     "text": [
      "(Pdb)  n\n"
     ]
    },
    {
     "name": "stdout",
     "output_type": "stream",
     "text": [
      "> <ipython-input-4-0136957f1801>(196)naked_double()\n",
      "-> for other_other_blank in blank_box:\n"
     ]
    },
    {
     "name": "stdin",
     "output_type": "stream",
     "text": [
      "(Pdb)  n\n"
     ]
    },
    {
     "name": "stdout",
     "output_type": "stream",
     "text": [
      "> <ipython-input-4-0136957f1801>(197)naked_double()\n",
      "-> if other_other_blank != other_blank:\n"
     ]
    },
    {
     "name": "stdin",
     "output_type": "stream",
     "text": [
      "(Pdb)  n\n"
     ]
    },
    {
     "name": "stdout",
     "output_type": "stream",
     "text": [
      "> <ipython-input-4-0136957f1801>(196)naked_double()\n",
      "-> for other_other_blank in blank_box:\n"
     ]
    },
    {
     "name": "stdin",
     "output_type": "stream",
     "text": [
      "(Pdb)  n\n"
     ]
    },
    {
     "name": "stdout",
     "output_type": "stream",
     "text": [
      "> <ipython-input-4-0136957f1801>(194)naked_double()\n",
      "-> for other_blank in blank_box:\n"
     ]
    },
    {
     "name": "stdin",
     "output_type": "stream",
     "text": [
      "(Pdb)  n\n"
     ]
    },
    {
     "name": "stdout",
     "output_type": "stream",
     "text": [
      "> <ipython-input-4-0136957f1801>(163)naked_double()\n",
      "-> for blank in blanks:\n"
     ]
    },
    {
     "name": "stdin",
     "output_type": "stream",
     "text": [
      "(Pdb)  n\n"
     ]
    },
    {
     "name": "stdout",
     "output_type": "stream",
     "text": [
      "> <ipython-input-4-0136957f1801>(167)naked_double()\n",
      "-> blank_column = [other_blank for other_blank in blanks if other_blank[2] == blank[2] and other_blank != blank]\n"
     ]
    },
    {
     "name": "stdin",
     "output_type": "stream",
     "text": [
      "(Pdb)  n\n"
     ]
    },
    {
     "name": "stdout",
     "output_type": "stream",
     "text": [
      "> <ipython-input-4-0136957f1801>(170)naked_double()\n",
      "-> blank_row = [other_blank for other_blank in blanks if other_blank[1] == blank[1] and other_blank != blank]\n"
     ]
    },
    {
     "name": "stdin",
     "output_type": "stream",
     "text": [
      "(Pdb)  n\n"
     ]
    },
    {
     "name": "stdout",
     "output_type": "stream",
     "text": [
      "> <ipython-input-4-0136957f1801>(173)naked_double()\n",
      "-> blank_box = [other_blank for other_blank in blanks if int(other_blank[1])//3 == int(blank[1])//3 and int(other_blank[2])//3 == int(blank[2])//3 and other_blank != blank]\n"
     ]
    },
    {
     "name": "stdin",
     "output_type": "stream",
     "text": [
      "(Pdb)  n\n"
     ]
    },
    {
     "name": "stdout",
     "output_type": "stream",
     "text": [
      "> <ipython-input-4-0136957f1801>(176)naked_double()\n",
      "-> for other_blank in blank_column:\n"
     ]
    },
    {
     "name": "stdin",
     "output_type": "stream",
     "text": [
      "(Pdb)  n\n"
     ]
    },
    {
     "name": "stdout",
     "output_type": "stream",
     "text": [
      "> <ipython-input-4-0136957f1801>(177)naked_double()\n",
      "-> if other_blank[3] == blank[3] and len(blank[3]) == 2:\n"
     ]
    },
    {
     "name": "stdin",
     "output_type": "stream",
     "text": [
      "(Pdb)  n\n"
     ]
    },
    {
     "name": "stdout",
     "output_type": "stream",
     "text": [
      "> <ipython-input-4-0136957f1801>(176)naked_double()\n",
      "-> for other_blank in blank_column:\n"
     ]
    },
    {
     "name": "stdin",
     "output_type": "stream",
     "text": [
      "(Pdb)  n\n"
     ]
    },
    {
     "name": "stdout",
     "output_type": "stream",
     "text": [
      "> <ipython-input-4-0136957f1801>(177)naked_double()\n",
      "-> if other_blank[3] == blank[3] and len(blank[3]) == 2:\n"
     ]
    },
    {
     "name": "stdin",
     "output_type": "stream",
     "text": [
      "(Pdb)  n\n"
     ]
    },
    {
     "name": "stdout",
     "output_type": "stream",
     "text": [
      "> <ipython-input-4-0136957f1801>(176)naked_double()\n",
      "-> for other_blank in blank_column:\n"
     ]
    },
    {
     "name": "stdin",
     "output_type": "stream",
     "text": [
      "(Pdb)  n\n"
     ]
    },
    {
     "name": "stdout",
     "output_type": "stream",
     "text": [
      "> <ipython-input-4-0136957f1801>(177)naked_double()\n",
      "-> if other_blank[3] == blank[3] and len(blank[3]) == 2:\n"
     ]
    },
    {
     "name": "stdin",
     "output_type": "stream",
     "text": [
      "(Pdb)  n\n"
     ]
    },
    {
     "name": "stdout",
     "output_type": "stream",
     "text": [
      "> <ipython-input-4-0136957f1801>(176)naked_double()\n",
      "-> for other_blank in blank_column:\n"
     ]
    },
    {
     "name": "stdin",
     "output_type": "stream",
     "text": [
      "(Pdb)  n\n"
     ]
    },
    {
     "name": "stdout",
     "output_type": "stream",
     "text": [
      "> <ipython-input-4-0136957f1801>(177)naked_double()\n",
      "-> if other_blank[3] == blank[3] and len(blank[3]) == 2:\n"
     ]
    },
    {
     "name": "stdin",
     "output_type": "stream",
     "text": [
      "(Pdb)  \n"
     ]
    },
    {
     "name": "stdout",
     "output_type": "stream",
     "text": [
      "> <ipython-input-4-0136957f1801>(176)naked_double()\n",
      "-> for other_blank in blank_column:\n"
     ]
    },
    {
     "name": "stdin",
     "output_type": "stream",
     "text": [
      "(Pdb)  n\n"
     ]
    },
    {
     "name": "stdout",
     "output_type": "stream",
     "text": [
      "> <ipython-input-4-0136957f1801>(185)naked_double()\n",
      "-> for other_blank in blank_row:\n"
     ]
    },
    {
     "name": "stdin",
     "output_type": "stream",
     "text": [
      "(Pdb)  n\n"
     ]
    },
    {
     "name": "stdout",
     "output_type": "stream",
     "text": [
      "> <ipython-input-4-0136957f1801>(186)naked_double()\n",
      "-> if other_blank[3] == blank[3] and len(blank[3]) == 2:\n"
     ]
    },
    {
     "name": "stdin",
     "output_type": "stream",
     "text": [
      "(Pdb)  n\n"
     ]
    },
    {
     "name": "stdout",
     "output_type": "stream",
     "text": [
      "> <ipython-input-4-0136957f1801>(185)naked_double()\n",
      "-> for other_blank in blank_row:\n"
     ]
    },
    {
     "name": "stdin",
     "output_type": "stream",
     "text": [
      "(Pdb)  n\n"
     ]
    },
    {
     "name": "stdout",
     "output_type": "stream",
     "text": [
      "> <ipython-input-4-0136957f1801>(186)naked_double()\n",
      "-> if other_blank[3] == blank[3] and len(blank[3]) == 2:\n"
     ]
    },
    {
     "name": "stdin",
     "output_type": "stream",
     "text": [
      "(Pdb)  n\n"
     ]
    },
    {
     "name": "stdout",
     "output_type": "stream",
     "text": [
      "> <ipython-input-4-0136957f1801>(185)naked_double()\n",
      "-> for other_blank in blank_row:\n"
     ]
    },
    {
     "name": "stdin",
     "output_type": "stream",
     "text": [
      "(Pdb)  n\n"
     ]
    },
    {
     "name": "stdout",
     "output_type": "stream",
     "text": [
      "> <ipython-input-4-0136957f1801>(186)naked_double()\n",
      "-> if other_blank[3] == blank[3] and len(blank[3]) == 2:\n"
     ]
    },
    {
     "name": "stdin",
     "output_type": "stream",
     "text": [
      "(Pdb)  n\n"
     ]
    },
    {
     "name": "stdout",
     "output_type": "stream",
     "text": [
      "> <ipython-input-4-0136957f1801>(185)naked_double()\n",
      "-> for other_blank in blank_row:\n"
     ]
    },
    {
     "name": "stdin",
     "output_type": "stream",
     "text": [
      "(Pdb)  n\n"
     ]
    },
    {
     "name": "stdout",
     "output_type": "stream",
     "text": [
      "> <ipython-input-4-0136957f1801>(194)naked_double()\n",
      "-> for other_blank in blank_box:\n"
     ]
    },
    {
     "name": "stdin",
     "output_type": "stream",
     "text": [
      "(Pdb)  n\n"
     ]
    },
    {
     "name": "stdout",
     "output_type": "stream",
     "text": [
      "> <ipython-input-4-0136957f1801>(195)naked_double()\n",
      "-> if other_blank[3] == blank[3] and len(blank[3]) == 2:\n"
     ]
    },
    {
     "name": "stdin",
     "output_type": "stream",
     "text": [
      "(Pdb)  n\n"
     ]
    },
    {
     "name": "stdout",
     "output_type": "stream",
     "text": [
      "> <ipython-input-4-0136957f1801>(194)naked_double()\n",
      "-> for other_blank in blank_box:\n"
     ]
    },
    {
     "name": "stdin",
     "output_type": "stream",
     "text": [
      "(Pdb)  n\n"
     ]
    },
    {
     "name": "stdout",
     "output_type": "stream",
     "text": [
      "> <ipython-input-4-0136957f1801>(195)naked_double()\n",
      "-> if other_blank[3] == blank[3] and len(blank[3]) == 2:\n"
     ]
    },
    {
     "name": "stdin",
     "output_type": "stream",
     "text": [
      "(Pdb)  n\n"
     ]
    },
    {
     "name": "stdout",
     "output_type": "stream",
     "text": [
      "> <ipython-input-4-0136957f1801>(194)naked_double()\n",
      "-> for other_blank in blank_box:\n"
     ]
    },
    {
     "name": "stdin",
     "output_type": "stream",
     "text": [
      "(Pdb)  n\n"
     ]
    },
    {
     "name": "stdout",
     "output_type": "stream",
     "text": [
      "> <ipython-input-4-0136957f1801>(195)naked_double()\n",
      "-> if other_blank[3] == blank[3] and len(blank[3]) == 2:\n"
     ]
    },
    {
     "name": "stdin",
     "output_type": "stream",
     "text": [
      "(Pdb)  n\n"
     ]
    },
    {
     "name": "stdout",
     "output_type": "stream",
     "text": [
      "> <ipython-input-4-0136957f1801>(194)naked_double()\n",
      "-> for other_blank in blank_box:\n"
     ]
    },
    {
     "name": "stdin",
     "output_type": "stream",
     "text": [
      "(Pdb)  \n"
     ]
    },
    {
     "name": "stdout",
     "output_type": "stream",
     "text": [
      "> <ipython-input-4-0136957f1801>(163)naked_double()\n",
      "-> for blank in blanks:\n"
     ]
    },
    {
     "name": "stdin",
     "output_type": "stream",
     "text": [
      "(Pdb)  \n"
     ]
    },
    {
     "name": "stdout",
     "output_type": "stream",
     "text": [
      "> <ipython-input-4-0136957f1801>(167)naked_double()\n",
      "-> blank_column = [other_blank for other_blank in blanks if other_blank[2] == blank[2] and other_blank != blank]\n"
     ]
    },
    {
     "name": "stdin",
     "output_type": "stream",
     "text": [
      "(Pdb)  \n"
     ]
    },
    {
     "name": "stdout",
     "output_type": "stream",
     "text": [
      "> <ipython-input-4-0136957f1801>(170)naked_double()\n",
      "-> blank_row = [other_blank for other_blank in blanks if other_blank[1] == blank[1] and other_blank != blank]\n"
     ]
    },
    {
     "name": "stdin",
     "output_type": "stream",
     "text": [
      "(Pdb)  \n"
     ]
    },
    {
     "name": "stdout",
     "output_type": "stream",
     "text": [
      "> <ipython-input-4-0136957f1801>(173)naked_double()\n",
      "-> blank_box = [other_blank for other_blank in blanks if int(other_blank[1])//3 == int(blank[1])//3 and int(other_blank[2])//3 == int(blank[2])//3 and other_blank != blank]\n"
     ]
    },
    {
     "name": "stdin",
     "output_type": "stream",
     "text": [
      "(Pdb)  \n"
     ]
    },
    {
     "name": "stdout",
     "output_type": "stream",
     "text": [
      "> <ipython-input-4-0136957f1801>(176)naked_double()\n",
      "-> for other_blank in blank_column:\n"
     ]
    },
    {
     "name": "stdin",
     "output_type": "stream",
     "text": [
      "(Pdb)  \n"
     ]
    },
    {
     "name": "stdout",
     "output_type": "stream",
     "text": [
      "> <ipython-input-4-0136957f1801>(177)naked_double()\n",
      "-> if other_blank[3] == blank[3] and len(blank[3]) == 2:\n"
     ]
    },
    {
     "name": "stdin",
     "output_type": "stream",
     "text": [
      "(Pdb)  \n"
     ]
    },
    {
     "name": "stdout",
     "output_type": "stream",
     "text": [
      "> <ipython-input-4-0136957f1801>(178)naked_double()\n",
      "-> for other_other_blank in blank_column:\n"
     ]
    },
    {
     "name": "stdin",
     "output_type": "stream",
     "text": [
      "(Pdb)  \n"
     ]
    },
    {
     "name": "stdout",
     "output_type": "stream",
     "text": [
      "> <ipython-input-4-0136957f1801>(179)naked_double()\n",
      "-> if other_other_blank != other_blank:\n"
     ]
    },
    {
     "name": "stdin",
     "output_type": "stream",
     "text": [
      "(Pdb)  \n"
     ]
    },
    {
     "name": "stdout",
     "output_type": "stream",
     "text": [
      "> <ipython-input-4-0136957f1801>(178)naked_double()\n",
      "-> for other_other_blank in blank_column:\n"
     ]
    },
    {
     "name": "stdin",
     "output_type": "stream",
     "text": [
      "(Pdb)  \n"
     ]
    },
    {
     "name": "stdout",
     "output_type": "stream",
     "text": [
      "> <ipython-input-4-0136957f1801>(176)naked_double()\n",
      "-> for other_blank in blank_column:\n"
     ]
    },
    {
     "name": "stdin",
     "output_type": "stream",
     "text": [
      "(Pdb)  \n"
     ]
    },
    {
     "name": "stdout",
     "output_type": "stream",
     "text": [
      "> <ipython-input-4-0136957f1801>(185)naked_double()\n",
      "-> for other_blank in blank_row:\n"
     ]
    },
    {
     "name": "stdin",
     "output_type": "stream",
     "text": [
      "(Pdb)  \n"
     ]
    },
    {
     "name": "stdout",
     "output_type": "stream",
     "text": [
      "> <ipython-input-4-0136957f1801>(186)naked_double()\n",
      "-> if other_blank[3] == blank[3] and len(blank[3]) == 2:\n"
     ]
    },
    {
     "name": "stdin",
     "output_type": "stream",
     "text": [
      "(Pdb)  \n"
     ]
    },
    {
     "name": "stdout",
     "output_type": "stream",
     "text": [
      "> <ipython-input-4-0136957f1801>(185)naked_double()\n",
      "-> for other_blank in blank_row:\n"
     ]
    },
    {
     "name": "stdin",
     "output_type": "stream",
     "text": [
      "(Pdb)  \n"
     ]
    },
    {
     "name": "stdout",
     "output_type": "stream",
     "text": [
      "> <ipython-input-4-0136957f1801>(186)naked_double()\n",
      "-> if other_blank[3] == blank[3] and len(blank[3]) == 2:\n"
     ]
    },
    {
     "name": "stdin",
     "output_type": "stream",
     "text": [
      "(Pdb)  \n"
     ]
    },
    {
     "name": "stdout",
     "output_type": "stream",
     "text": [
      "> <ipython-input-4-0136957f1801>(185)naked_double()\n",
      "-> for other_blank in blank_row:\n"
     ]
    },
    {
     "name": "stdin",
     "output_type": "stream",
     "text": [
      "(Pdb)  \n"
     ]
    },
    {
     "name": "stdout",
     "output_type": "stream",
     "text": [
      "> <ipython-input-4-0136957f1801>(186)naked_double()\n",
      "-> if other_blank[3] == blank[3] and len(blank[3]) == 2:\n"
     ]
    },
    {
     "name": "stdin",
     "output_type": "stream",
     "text": [
      "(Pdb)  \n"
     ]
    },
    {
     "name": "stdout",
     "output_type": "stream",
     "text": [
      "> <ipython-input-4-0136957f1801>(185)naked_double()\n",
      "-> for other_blank in blank_row:\n"
     ]
    },
    {
     "name": "stdin",
     "output_type": "stream",
     "text": [
      "(Pdb)  \n"
     ]
    },
    {
     "name": "stdout",
     "output_type": "stream",
     "text": [
      "> <ipython-input-4-0136957f1801>(194)naked_double()\n",
      "-> for other_blank in blank_box:\n"
     ]
    },
    {
     "name": "stdin",
     "output_type": "stream",
     "text": [
      "(Pdb)  \n"
     ]
    },
    {
     "name": "stdout",
     "output_type": "stream",
     "text": [
      "> <ipython-input-4-0136957f1801>(195)naked_double()\n",
      "-> if other_blank[3] == blank[3] and len(blank[3]) == 2:\n"
     ]
    },
    {
     "name": "stdin",
     "output_type": "stream",
     "text": [
      "(Pdb)  \n"
     ]
    },
    {
     "name": "stdout",
     "output_type": "stream",
     "text": [
      "> <ipython-input-4-0136957f1801>(194)naked_double()\n",
      "-> for other_blank in blank_box:\n"
     ]
    },
    {
     "name": "stdin",
     "output_type": "stream",
     "text": [
      "(Pdb)  \n"
     ]
    },
    {
     "name": "stdout",
     "output_type": "stream",
     "text": [
      "> <ipython-input-4-0136957f1801>(195)naked_double()\n",
      "-> if other_blank[3] == blank[3] and len(blank[3]) == 2:\n"
     ]
    },
    {
     "name": "stdin",
     "output_type": "stream",
     "text": [
      "(Pdb)  \n"
     ]
    },
    {
     "name": "stdout",
     "output_type": "stream",
     "text": [
      "> <ipython-input-4-0136957f1801>(196)naked_double()\n",
      "-> for other_other_blank in blank_box:\n"
     ]
    },
    {
     "name": "stdin",
     "output_type": "stream",
     "text": [
      "(Pdb)  \n"
     ]
    },
    {
     "name": "stdout",
     "output_type": "stream",
     "text": [
      "> <ipython-input-4-0136957f1801>(197)naked_double()\n",
      "-> if other_other_blank != other_blank:\n"
     ]
    },
    {
     "name": "stdin",
     "output_type": "stream",
     "text": [
      "(Pdb)  \n"
     ]
    },
    {
     "name": "stdout",
     "output_type": "stream",
     "text": [
      "> <ipython-input-4-0136957f1801>(198)naked_double()\n",
      "-> for poss in blank[3]:\n"
     ]
    },
    {
     "name": "stdin",
     "output_type": "stream",
     "text": [
      "(Pdb)  \n"
     ]
    },
    {
     "name": "stdout",
     "output_type": "stream",
     "text": [
      "> <ipython-input-4-0136957f1801>(199)naked_double()\n",
      "-> if poss in other_other_blank[3]:\n"
     ]
    },
    {
     "name": "stdin",
     "output_type": "stream",
     "text": [
      "(Pdb)  \n"
     ]
    },
    {
     "name": "stdout",
     "output_type": "stream",
     "text": [
      "> <ipython-input-4-0136957f1801>(198)naked_double()\n",
      "-> for poss in blank[3]:\n"
     ]
    },
    {
     "name": "stdin",
     "output_type": "stream",
     "text": [
      "(Pdb)  \n"
     ]
    },
    {
     "name": "stdout",
     "output_type": "stream",
     "text": [
      "> <ipython-input-4-0136957f1801>(199)naked_double()\n",
      "-> if poss in other_other_blank[3]:\n"
     ]
    },
    {
     "name": "stdin",
     "output_type": "stream",
     "text": [
      "(Pdb)  \n"
     ]
    },
    {
     "name": "stdout",
     "output_type": "stream",
     "text": [
      "> <ipython-input-4-0136957f1801>(200)naked_double()\n",
      "-> other_other_blank[3].remove(poss)\n"
     ]
    },
    {
     "name": "stdin",
     "output_type": "stream",
     "text": [
      "(Pdb)  \n"
     ]
    },
    {
     "name": "stdout",
     "output_type": "stream",
     "text": [
      "> <ipython-input-4-0136957f1801>(201)naked_double()\n",
      "-> return True\n"
     ]
    },
    {
     "name": "stdin",
     "output_type": "stream",
     "text": [
      "(Pdb)  \n"
     ]
    },
    {
     "name": "stdout",
     "output_type": "stream",
     "text": [
      "--Return--\n",
      "> <ipython-input-4-0136957f1801>(201)naked_double()->True\n",
      "-> return True\n"
     ]
    },
    {
     "name": "stdin",
     "output_type": "stream",
     "text": [
      "(Pdb)  \n"
     ]
    },
    {
     "name": "stdout",
     "output_type": "stream",
     "text": [
      "> <ipython-input-4-0136957f1801>(257)solve()\n",
      "-> update_blanks()\n"
     ]
    },
    {
     "name": "stdin",
     "output_type": "stream",
     "text": [
      "(Pdb)  \n"
     ]
    },
    {
     "name": "stdout",
     "output_type": "stream",
     "text": [
      "> <ipython-input-4-0136957f1801>(258)solve()\n",
      "-> progress = progress or prog3\n"
     ]
    },
    {
     "name": "stdin",
     "output_type": "stream",
     "text": [
      "(Pdb)  \n"
     ]
    },
    {
     "name": "stdout",
     "output_type": "stream",
     "text": [
      "> <ipython-input-4-0136957f1801>(259)solve()\n",
      "-> nd_count += prog3\n"
     ]
    },
    {
     "name": "stdin",
     "output_type": "stream",
     "text": [
      "(Pdb)  \n"
     ]
    },
    {
     "name": "stdout",
     "output_type": "stream",
     "text": [
      "> <ipython-input-4-0136957f1801>(261)solve()\n",
      "-> if progress == False:\n"
     ]
    },
    {
     "name": "stdin",
     "output_type": "stream",
     "text": [
      "(Pdb)  \n"
     ]
    },
    {
     "name": "stdout",
     "output_type": "stream",
     "text": [
      "> <ipython-input-4-0136957f1801>(242)solve()\n",
      "-> while progress == True:\n"
     ]
    },
    {
     "name": "stdin",
     "output_type": "stream",
     "text": [
      "(Pdb)  \n"
     ]
    },
    {
     "name": "stdout",
     "output_type": "stream",
     "text": [
      "> <ipython-input-4-0136957f1801>(244)solve()\n",
      "-> prog1 = naked_single()\n"
     ]
    },
    {
     "name": "stdin",
     "output_type": "stream",
     "text": [
      "(Pdb)  \n"
     ]
    },
    {
     "name": "stdout",
     "output_type": "stream",
     "text": [
      "> <ipython-input-4-0136957f1801>(245)solve()\n",
      "-> update_blanks()\n"
     ]
    },
    {
     "name": "stdin",
     "output_type": "stream",
     "text": [
      "(Pdb)  \n"
     ]
    },
    {
     "name": "stdout",
     "output_type": "stream",
     "text": [
      "> <ipython-input-4-0136957f1801>(246)solve()\n",
      "-> progress = prog1\n"
     ]
    },
    {
     "name": "stdin",
     "output_type": "stream",
     "text": [
      "(Pdb)  \n"
     ]
    },
    {
     "name": "stdout",
     "output_type": "stream",
     "text": [
      "> <ipython-input-4-0136957f1801>(247)solve()\n",
      "-> ns_count += prog1\n"
     ]
    },
    {
     "name": "stdin",
     "output_type": "stream",
     "text": [
      "(Pdb)  \n"
     ]
    },
    {
     "name": "stdout",
     "output_type": "stream",
     "text": [
      "> <ipython-input-4-0136957f1801>(249)solve()\n",
      "-> if progress == False:\n"
     ]
    },
    {
     "name": "stdin",
     "output_type": "stream",
     "text": [
      "(Pdb)  \n"
     ]
    },
    {
     "name": "stdout",
     "output_type": "stream",
     "text": [
      "> <ipython-input-4-0136957f1801>(250)solve()\n",
      "-> prog2 = hidden_single()\n"
     ]
    },
    {
     "name": "stdin",
     "output_type": "stream",
     "text": [
      "(Pdb)  \n"
     ]
    },
    {
     "name": "stdout",
     "output_type": "stream",
     "text": [
      "> <ipython-input-4-0136957f1801>(251)solve()\n",
      "-> update_blanks()\n"
     ]
    },
    {
     "name": "stdin",
     "output_type": "stream",
     "text": [
      "(Pdb)  \n"
     ]
    },
    {
     "name": "stdout",
     "output_type": "stream",
     "text": [
      "> <ipython-input-4-0136957f1801>(252)solve()\n",
      "-> progress = progress or prog2\n"
     ]
    },
    {
     "name": "stdin",
     "output_type": "stream",
     "text": [
      "(Pdb)  \n"
     ]
    },
    {
     "name": "stdout",
     "output_type": "stream",
     "text": [
      "> <ipython-input-4-0136957f1801>(253)solve()\n",
      "-> hs_count += prog2\n"
     ]
    },
    {
     "name": "stdin",
     "output_type": "stream",
     "text": [
      "(Pdb)  \n"
     ]
    },
    {
     "name": "stdout",
     "output_type": "stream",
     "text": [
      "> <ipython-input-4-0136957f1801>(255)solve()\n",
      "-> if progress == False:\n"
     ]
    },
    {
     "name": "stdin",
     "output_type": "stream",
     "text": [
      "(Pdb)  \n"
     ]
    },
    {
     "name": "stdout",
     "output_type": "stream",
     "text": [
      "> <ipython-input-4-0136957f1801>(256)solve()\n",
      "-> prog3 = naked_double()\n"
     ]
    },
    {
     "name": "stdin",
     "output_type": "stream",
     "text": [
      "(Pdb)  \n"
     ]
    },
    {
     "name": "stdout",
     "output_type": "stream",
     "text": [
      "> <ipython-input-4-0136957f1801>(163)naked_double()\n",
      "-> for blank in blanks:\n"
     ]
    },
    {
     "name": "stdin",
     "output_type": "stream",
     "text": [
      "(Pdb)  \n",
      "(Pdb)  \n",
      "(Pdb)  \n",
      "(Pdb)  \n",
      "(Pdb)  \n",
      "(Pdb)  \n",
      "(Pdb)  \n",
      "(Pdb)  \n",
      "(Pdb)  \n",
      "(Pdb)  \n",
      "(Pdb)  \n",
      "(Pdb)  \n",
      "(Pdb)  \n",
      "(Pdb)  \n",
      "(Pdb)  \n",
      "(Pdb)  \n",
      "(Pdb)  stop\n"
     ]
    },
    {
     "name": "stdout",
     "output_type": "stream",
     "text": [
      "*** NameError: name 'stop' is not defined\n"
     ]
    }
   ],
   "source": [
    "#Random Sudoku\n",
    "#This requires a HARD strat, like \"simple coloring\" or \"single chaining\"\n",
    "#It basically is a sort of guess and check.\n",
    "#Does use naked pairs\n",
    "#Eww\n",
    "\n",
    "solve_bf('.94...13..............76..2.8..1.....32.........2...6.....5.4.......8..7..63.4..8')\n",
    "solve_lbf('.94...13..............76..2.8..1.....32.........2...6.....5.4.......8..7..63.4..8')\n",
    "solve('.94...13..............76..2.8..1.....32.........2...6.....5.4.......8..7..63.4..8')"
   ]
  },
  {
   "cell_type": "code",
   "execution_count": null,
   "metadata": {},
   "outputs": [],
   "source": [
    "# Easy Puzzle 5,220,548,762 from Web Sudoku\n",
    "\n",
    "solve_bf('.4.9....5.85.32.7....8...6.5.82.3..172..9..344..7.12.6.7...8....1.32.54.3....7.1.')\n",
    "solve_lbf('.4.9....5.85.32.7....8...6.5.82.3..172..9..344..7.12.6.7...8....1.32.54.3....7.1.')\n",
    "solve('.4.9....5.85.32.7....8...6.5.82.3..172..9..344..7.12.6.7...8....1.32.54.3....7.1.')"
   ]
  },
  {
   "cell_type": "code",
   "execution_count": null,
   "metadata": {},
   "outputs": [],
   "source": [
    "#Some easy one, forgot where this came from\n",
    "\n",
    "solve_bf('............942.8.16.....29........89.6.....14..25......4.......2...8.9..5....7..')\n",
    "solve_lbf('............942.8.16.....29........89.6.....14..25......4.......2...8.9..5....7..')\n",
    "solve('............942.8.16.....29........89.6.....14..25......4.......2...8.9..5....7..')"
   ]
  },
  {
   "cell_type": "code",
   "execution_count": null,
   "metadata": {},
   "outputs": [],
   "source": [
    "#Kindof Hard 1\n",
    "\n",
    "solve_bf('.....7....9...1.......45..6....2.....36...41.5.....8.9........4....18....815...32')\n",
    "solve_lbf('.....7....9...1.......45..6....2.....36...41.5.....8.9........4....18....815...32')\n",
    "solve('.....7....9...1.......45..6....2.....36...41.5.....8.9........4....18....815...32')"
   ]
  },
  {
   "cell_type": "code",
   "execution_count": null,
   "metadata": {},
   "outputs": [],
   "source": [
    "#More of a medium\n",
    "\n",
    "solve_bf('.5247.....6............8.1.4.......97..95.....2..4..3....8...9......37.6....91...')\n",
    "solve_lbf('.5247.....6............8.1.4.......97..95.....2..4..3....8...9......37.6....91...')\n",
    "solve('.5247.....6............8.1.4.......97..95.....2..4..3....8...9......37.6....91...')"
   ]
  },
  {
   "cell_type": "code",
   "execution_count": null,
   "metadata": {},
   "outputs": [],
   "source": [
    "#Greg's Evil Puzzle\n",
    "\n",
    "solve_bf('.1...5...89..7.2...7.4.....5...1....3.8...7.6....4...9.....6.5...7.3..98...8...4.')\n",
    "solve_lbf('.1...5...89..7.2...7.4.....5...1....3.8...7.6....4...9.....6.5...7.3..98...8...4.')\n",
    "solve('.1...5...89..7.2...7.4.....5...1....3.8...7.6....4...9.....6.5...7.3..98...8...4.')"
   ]
  },
  {
   "cell_type": "code",
   "execution_count": null,
   "metadata": {},
   "outputs": [],
   "source": [
    "#Easiest Possible Sudoku, from sudoku wiki\n",
    "#Only requires naked singles\n",
    "\n",
    "solve_bf('...1.5...14....67..8...24...63.7..1.9.......3.1..9.52...72...8..26....35...4.9...')\n",
    "solve_lbf('...1.5...14....67..8...24...63.7..1.9.......3.1..9.52...72...8..26....35...4.9...')\n",
    "solve('...1.5...14....67..8...24...63.7..1.9.......3.1..9.52...72...8..26....35...4.9...')"
   ]
  },
  {
   "cell_type": "code",
   "execution_count": null,
   "metadata": {},
   "outputs": [],
   "source": [
    "#Very Hard Benchmark 1\n",
    "\n",
    "solve_bf('4.....8.5.3..........7......2.....6.....8.4......1.......6.3.7.5..2.....1.4......')\n",
    "solve_lbf('4.....8.5.3..........7......2.....6.....8.4......1.......6.3.7.5..2.....1.4......')\n",
    "solve('4.....8.5.3..........7......2.....6.....8.4......1.......6.3.7.5..2.....1.4......')"
   ]
  },
  {
   "cell_type": "code",
   "execution_count": null,
   "metadata": {},
   "outputs": [],
   "source": [
    "#Very Hard Benchmark 1\n",
    "\n",
    "solve('4.....8.5.3..........7......2.....6.....8.4......1.......6.3.7.5..2.....1.4......')"
   ]
  },
  {
   "cell_type": "code",
   "execution_count": null,
   "metadata": {},
   "outputs": [],
   "source": [
    "#Here's a repository of 95 hard puzzle, a good benchmark\n",
    "\n",
    "puzzles = '4.....8.5.3..........7......2.....6.....8.4......1.......6.3.7.5..2.....1.4......52...6.........7.13...........4..8..6......5...........418.........3..2...87.....6.....8.3.4.7.................5.4.7.3..2.....1.6.......2.....5.....8.6......1....48.3............71.2.......7.5....6....2..8.............1.76...3.....4......5........14....3....2...7..........9...3.6.1.............8.2.....1.4....5.6.....7.8.........52..8.4......3...9...5.1...6..2..7........3.....6...1..........7.4.......3.6.2.5.........3.4..........43...8....1....2........7..5..27...........81...6......524.........7.1..............8.2...3.....6...9.5.....1.6.3...........897........6.2.5.........4.3..........43...8....1....2........7..5..27...........81...6......923.........8.1...........1.7.4...........658.........6.5.2...4.....7.....9.....6..3.2....5.....1..........7.26............543.........8.15........4.2........7...6.5.1.9.1...9..539....7....4.8...7.......5.8.817.5.3.....5.2............76..8.....5...987.4..5...1..7......2...48....9.1.....6..2.....3..6..2.......9.7.......5..3.6.7...........518.........1.4.5...7.....6.....2......2.....4.....8.3.....5.....1.....3.8.7.4..............2.3.1...........958.........5.6...7.....8.2...4.......6..3.2....4.....1..........7.26............543.........8.15........4.2........7......3..9....2....1.5.9..............1.2.8.4.6.8.5...2..75......4.1..6..3.....4.6.45.....3....8.1....9...........5..9.2..7.....8.........1..4..........7.2...6..8...237....68...6.59.9.....7......4.97.3.7.96..2.........5..47.........2....8.........84...3....3.....9....157479...8........7..514.....2...9.6...2.5....4......9..56.98.1....2......6.............3.2.5..84.........6.........4.8.93..5...........1....247..58..............1.4.....2...9528.9.4....9...1.........3.3....75..685..2...4.....8.5.3..........7......2.....6.....5.4......1.......6.3.7.5..2.....1.9.......2.3......63.....58.......15....9.3....7........1....8.879..26......6.7...6..7..41.....7.9.4...72..8.........7..1..6.3.......5.6..4..2.........8..53...7.7.2....464.....3.....8.2......7........1...8734.......6........5...6........1.4...82.............71.2.8........4.3...7...6..5....2..3..9........6...7.....8....4......5....6..3.2....4.....8..........7.26............543.........8.15........8.2........7...47.8...1............6..7..6....357......5....1..6....28..4.....9.1...4.....2.69.......8.17..2........5.6......7...5..1....3...8.......5......2..4..8....6...3....38.6.......9.......2..3.51......5....3..1..6....4......17.5..8.......9.......7.32...5...........5.697.....2...48.2...25.1...3..8..3.........4.7..13.5..9..2...31...2.......3.5.62..9.68...3...5..........64.8.2..47..9....3.....1.....6...17.43.....8..4....3......1........2...5...4.69..1..8..2...........3.9....6....5.....2.......8.9.1...6.5...2......6....3.1.7.5.........9..4...3...5....2...7...3.8.2..7....44.....5.8.3..........7......2.....6.....5.8......1.......6.3.7.5..2.....1.8......1.....3.8.6.4..............2.3.1...........958.........5.6...7.....8.2...4.......1....6.8..64..........4...7....9.6...7.4..5..5...7.1...5....32.3....8...4........249.6...3.3....2..8.......5.....6......2......1..4.82..9.5..7....4.....1.7...3......8....9.873...4.6..7.......85..97...........43..75.......3....3...145.4....2..1...5.1....9....8...6.......4.1..........7..9........3.8.....1.5...2..4.....36..........8.16..2........7.5......6...2..1....3...8.......2......7..3..8....5...4.....476...5.8.3.....2.....9......8.5..6...1.....6.24......78...51...6....4..9...4..7.....7.95.....1...86..2.....2..73..85......6...3..49..3.5...41724.................4.5.....8...9..3..76.2.....146..........9..7.....36....1..4.5..6......3..71..2...834.........7..5...........4.1.8..........27...3.....2.6.5....5.....8........1....9.....3.....9...7.....5.6..65..4.....3......28......3..75.6..6...........12.3.8.26.39......6....19.....7.......4..9.5....2....85.....3..2..9..4....762.........42.3.8....8..7...........1...6.5.7...4......3....1............82.5....6...1.......6..3.2....1.....5..........7.26............843.........8.15........8.2........7..1.....9...64..1.7..7..4.......3.....3.89..5....7....2.....6.7.9.....4.1....129.3..........9......84.623...5....6...453...1...6...9...7....1.....4.5..2....3.8....9.2....5938..5..46.94..6...8..2.3.....6..8.73.7..2.........4.38..7....6..........59.4..5...25.6..1..31......8.7...9...4..26......147....7.......2...3..8.6.4.....9....52.....9...3..4......7...1.....4..8..453..6...1...87.2........8....32.4..8..1.53..2.9...24.3..5...9..........1.827...7.........981.............64....91.2.5.43.1....786...7..8.1.8..2....9........24...1......9..5...6.8..........5.9.......93.4....5...11......7..6.....8......4.....9.1.3.....596.2..8..62..7..7......3.5.7.2...47.2....8....1....3....9.2.....5...6..81..5.....4.....7....3.4...9...1.4..27.8........94.....9...53....5.7..8.4..1..463...........7.8.8..7.....7......28.5.26.....2......6....41.....78....1......7....37.....6..412....1..74..5..8.5..7......39..1.....3.8.6.4..............2.3.1...........758.........7.5...6.....8.2...4.......2....1.9..1..3.7..9..8...2.......85..6.4.........7...3.2.3...6....5.....1.9...2.5..7..8.....6.2.3...3......9.1..5..6.....1.....7.9....2........4.83..4...26....51....36....85.......9.4..8........68.........17..9..45...1.5...6.4....9..2.....3...34.6.......7.......2..8.57......5....7..1..2....4......36.2..1.......9.......7.82......4.18..2........6.7......8...6..4....3...1.......6......2..5..1....7...3.....4..5..67...1...4....2.....1..8..3........2...6...........4..5.3.....8..2...............4...2..4..1.7..5..9...3..7....4..6....6..1..8...2....1..85.9...6.....8...38..7....4.5....6............3.97...8....43..5....2.9....6......2...6...7.71..83.2.8...4.5....7..3............1..85...6.....2......4....3.26............417............7..8...6...5...2...3.61.1...7..2..8..534.2..9.......2......58...6.3.4...1..........8.16..2........7.5......6...2..1....3...8.......2......7..4..8....5...3.....2..........6....3.74.8.........3..2.8..4..1.6..5.........1.78.5....9..........4..52..68.......7.2.......6....48..9..2..41......1.....8..61..38.....9...63..6..1.9....1.78.5....9..........4..2..........6....3.74.8.........3..2.8..4..1.6..5.....1.......3.6.3..7...7...5..121.7...9...7........8.1..2....8.64....9.2..6....4.....4...7.1....19.46.5.....1......7....2..2.3....847..6....14...8.6.2....3..6...9..........8.17..2........5.6......7...5..1....3...8.......5......2..3..8....6...4....963......1....8......2.5....4.8......1....7......3..257......3...9.2.4.7......9..15.3......7..4.2....4.72.....8.........9..1.8.1..8.79......38...........6....7423..........5724...98....947...9..3...5..9..12...3.1.9...6....25....56.....7......6....75....1..2.....4...3...5.....3.2...8...1.......6.....1..48.2........7........6.....7.3.4.8.................5.4.8.7..2.....1.3.......2.....5.....7.9......1........6...4..6.3....1..4..5.77.....8.5...8.....6.8....9...2.9....4....32....97..1...32.....58..3.....9.428...1...4...39...6...5.....1.....2...67.8.....4....95....6....5.3.......6.7..5.8....1636..2.......4.1.......3...567....2.8..4.7.......2..5...5.3.7.4.1.........3.......5.8.3.61....8..5.9.6..1........4...6...6927....2...9....5..8..18......9.......78....4.....64....9......53..2.6.........138..5....9.714...........72.6.1....51...82.8...13..4.........37.9..1.....238..5.4..9.........79....658.....4......12............96.7...3..5....2.8...3..19..8..3.6.....4....473...2.3.......6..8.9.83.5........2...8.7.9..5........6..4.......1...1...4.22..7..8.9.5..9....1.....6.....3.8.....8.4...9514.......3....2..........4.8...6..77..15..6......2.......7...17..3...9.8..7......2.89.6...13..6....9..5.824.....891..........3...8.......7....51..............36...2..4....7...........6.13..452...........8..'\n",
    "\n",
    "n=81\n",
    "\n",
    "puzzle_list = [puzzles[i:i+n] for i in range(0, len(puzzles), n)]\n",
    "\n",
    "\n",
    "for puzzle in puzzle_list:\n",
    "    solve(puzzle)\n",
    "\n"
   ]
  },
  {
   "cell_type": "code",
   "execution_count": 4,
   "metadata": {},
   "outputs": [],
   "source": [
    "a = 5\n",
    "b = 4"
   ]
  },
  {
   "cell_type": "code",
   "execution_count": null,
   "metadata": {},
   "outputs": [],
   "source": []
  }
 ],
 "metadata": {
  "kernelspec": {
   "display_name": "Python 3",
   "language": "python",
   "name": "python3"
  },
  "language_info": {
   "codemirror_mode": {
    "name": "ipython",
    "version": 3
   },
   "file_extension": ".py",
   "mimetype": "text/x-python",
   "name": "python",
   "nbconvert_exporter": "python",
   "pygments_lexer": "ipython3",
   "version": "3.7.4"
  }
 },
 "nbformat": 4,
 "nbformat_minor": 4
}
